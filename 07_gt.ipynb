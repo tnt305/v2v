{
 "cells": [
  {
   "cell_type": "code",
   "execution_count": 1,
   "metadata": {},
   "outputs": [],
   "source": [
    "import json\n",
    "import subprocess\n",
    "\n",
    "def get_video_duration(input_file):\n",
    "    cmd = ['ffprobe', '-v', 'quiet', '-print_format', 'json', '-show_format', '-show_streams', input_file]\n",
    "    result = subprocess.run(cmd, capture_output=True, text=True)\n",
    "    data = json.loads(result.stdout)\n",
    "    return float(data['format']['duration'])"
   ]
  },
  {
   "cell_type": "code",
   "execution_count": 2,
   "metadata": {},
   "outputs": [
    {
     "name": "stdout",
     "output_type": "stream",
     "text": [
      "Đây là duration 721.052833\n",
      "00:07:15\n",
      "Video được lưu mỗi 721.052833s: ./data/sample_tv360/gt/chunk_1_gt.mp4\n",
      "Đây là duration 721.043\n",
      "00:05:15\n",
      "Video được lưu mỗi 721.043s: ./data/sample_tv360/gt/chunk_2_gt.mp4\n",
      "Đây là duration 721.058589\n",
      "00:10:15\n",
      "Video được lưu mỗi 721.058589s: ./data/sample_tv360/gt/chunk_3_gt.mp4\n",
      "Đây là duration 721.0412\n",
      "00:02:51\n",
      "Video được lưu mỗi 721.0412s: ./data/sample_tv360/gt/chunk_4_gt.mp4\n",
      "Đây là duration 721.033495\n",
      "00:09:34\n",
      "Video được lưu mỗi 721.033495s: ./data/sample_tv360/gt/chunk_5_gt.mp4\n",
      "Đây là duration 721.04834\n",
      "00:02:58\n",
      "Video được lưu mỗi 721.04834s: ./data/sample_tv360/gt/chunk_6_gt.mp4\n",
      "Đây là duration 721.030728\n",
      "00:02:47\n",
      "Video được lưu mỗi 721.030728s: ./data/sample_tv360/gt/chunk_7_gt.mp4\n",
      "Đây là duration 721.04604\n",
      "00:08:42\n",
      "Video được lưu mỗi 721.04604s: ./data/sample_tv360/gt/chunk_8_gt.mp4\n",
      "Đây là duration 721.037635\n",
      "00:09:42\n",
      "Video được lưu mỗi 721.037635s: ./data/sample_tv360/gt/chunk_9_gt.mp4\n"
     ]
    }
   ],
   "source": [
    "import subprocess\n",
    "import random\n",
    "import cv2\n",
    "import os\n",
    "import math \n",
    "# Đường dẫn đến video\n",
    "number_of_chunks = math.ceil(get_video_duration('sample_tv360.mp4')/get_video_duration('sample_tv360_highlight.mp4'))\n",
    "for i in range(1, number_of_chunks+1):\n",
    "    video_path = f'./data/sample_tv360/video_chunk/chunk_{i}.mp4'\n",
    "\n",
    "    # Tính tổng thời gian của video\n",
    "    cap = cv2.VideoCapture(video_path)\n",
    "    fps = cap.get(cv2.CAP_PROP_FPS)\n",
    "    duration =  get_video_duration(video_path) \n",
    "    print(\"Đây là duration\", duration)\n",
    "    cap.release()\n",
    "\n",
    "    # Chọn thời gian bắt đầu ngẫu nhiên (bảo đảm có đủ 25 giây)\n",
    "    start_time = random.uniform(0, max(0, duration - math.ceil(duration/number_of_chunks)))\n",
    "    start_time_formatted = f\"{int(start_time // 3600):02}:{int((start_time % 3600) // 60):02}:{int(start_time % 60):02}\"\n",
    "    print(start_time_formatted)\n",
    "    # Đường dẫn đến video đầu ra\n",
    "    if not os.path.exists('./data/sample_tv360/gt'):\n",
    "        os.makedirs('./data/sample_tv360/gt')\n",
    "    output_path = f'./data/sample_tv360/gt/chunk_{i}_gt.mp4'\n",
    "\n",
    "    # Lệnh ffmpeg để trích xuất video\n",
    "    ffmpeg_cmd = [\n",
    "        'ffmpeg',\n",
    "        '-y',\n",
    "        '-ss', start_time_formatted,  # Thời gian bắt đầu\n",
    "        '-i', video_path,             # Video đầu vào\n",
    "        '-to', f'{math.ceil(duration/number_of_chunks)}',                   # Thời lượng clip chính xác là 27 giây\n",
    "        '-strict', 'experimental',    # Sử dụng codec âm thanh aac với tùy chọn strict\n",
    "        '-shortest',                  # Đảm bảo rằng video sẽ kết thúc đúng khi đạt thời gian yêu cầu\n",
    "        '-r', f'{fps}',\n",
    "        output_path                   # Đường dẫn đầu ra\n",
    "    ]\n",
    "\n",
    "    # Thực thi lệnh ffmpeg\n",
    "    subprocess.run(ffmpeg_cmd, stdout=subprocess.DEVNULL, stderr=subprocess.DEVNULL)\n",
    "    print(f\"Video được lưu mỗi {duration}s: {output_path}\")\n"
   ]
  },
  {
   "cell_type": "code",
   "execution_count": 2,
   "metadata": {},
   "outputs": [
    {
     "name": "stdout",
     "output_type": "stream",
     "text": [
      "\n",
      "List of files to be concatenated:\n",
      "file '/home/thiendc/projects/video_summarization/data/sample_tv360/gt/chunk_1_gt.mp4'\n",
      "file '/home/thiendc/projects/video_summarization/data/sample_tv360/gt/chunk_2_gt.mp4'\n",
      "file '/home/thiendc/projects/video_summarization/data/sample_tv360/gt/chunk_3_gt.mp4'\n",
      "file '/home/thiendc/projects/video_summarization/data/sample_tv360/gt/chunk_4_gt.mp4'\n",
      "file '/home/thiendc/projects/video_summarization/data/sample_tv360/gt/chunk_5_gt.mp4'\n",
      "file '/home/thiendc/projects/video_summarization/data/sample_tv360/gt/chunk_6_gt.mp4'\n",
      "file '/home/thiendc/projects/video_summarization/data/sample_tv360/gt/chunk_7_gt.mp4'\n",
      "file '/home/thiendc/projects/video_summarization/data/sample_tv360/gt/chunk_8_gt.mp4'\n",
      "file '/home/thiendc/projects/video_summarization/data/sample_tv360/gt/chunk_9_gt.mp4'\n",
      "file '/home/thiendc/projects/video_summarization/data/sample_tv360/gt/chunk_10_gt.mp4'\n",
      "\n",
      "Running ffmpeg to concatenate videos...\n",
      "\n",
      "All videos have been successfully concatenated into ./data/sample_tv360/final/complete_video_gt.mp4\n"
     ]
    }
   ],
   "source": [
    "import os\n",
    "import subprocess\n",
    "from tqdm import tqdm\n",
    "\n",
    "# Đường dẫn đến thư mục chứa các video cần nối\n",
    "final_dir = './data/sample_tv360/gt'\n",
    "\n",
    "# Tạo thư mục output nếu chưa tồn tại\n",
    "final_output_dir = './data/sample_tv360/final'\n",
    "if not os.path.exists(final_output_dir):\n",
    "    os.makedirs(final_output_dir)\n",
    "\n",
    "# Đường dẫn đến video sau khi nối\n",
    "output_video = os.path.join(final_output_dir, 'complete_video_gt.mp4')\n",
    "file_list_path = os.path.join(final_output_dir, 'merges_gt.txt')\n",
    "\n",
    "# Tạo file danh sách các video để nối với tqdm\n",
    "with open(file_list_path, 'w') as f:\n",
    "    for video_file in sorted(os.listdir(final_dir), key=lambda x: int(x.split('_')[1])):\n",
    "        file_path = os.path.join(final_dir, video_file)\n",
    "        # Thêm đường dẫn chính xác vào file_list_path\n",
    "        f.write(f\"file '{os.path.abspath(file_path)}'\\n\")\n",
    "\n",
    "# Kiểm tra nội dung file_list.txt\n",
    "print(\"\\nList of files to be concatenated:\")\n",
    "with open(file_list_path, 'r') as f:\n",
    "    print(f.read())\n",
    "\n",
    "# Lệnh ffmpeg để nối video, chuyển hướng stdout và stderr để ẩn thông báo từ ffmpeg\n",
    "concat_cmd = [\n",
    "    'ffmpeg',\n",
    "    '-y',\n",
    "    '-f', 'concat',\n",
    "    '-safe', '0',\n",
    "    '-i', file_list_path,\n",
    "    '-c:v', 'libopenh264',  # Mã hóa lại video với libopenh264\n",
    "    '-c:a', 'aac',          # Mã hóa lại audio với aac\n",
    "    '-r', '30',\n",
    "    '-strict', 'experimental',\n",
    "    output_video\n",
    "]\n",
    "\n",
    "# Chạy lệnh nối video và tắt đầu ra của ffmpeg\n",
    "print(\"Running ffmpeg to concatenate videos...\")\n",
    "subprocess.run(concat_cmd, stdout=subprocess.DEVNULL, stderr=subprocess.DEVNULL)\n",
    "\n",
    "# Kiểm tra xem file output có được tạo thành công không\n",
    "if os.path.exists(output_video):\n",
    "    print(f\"\\nAll videos have been successfully concatenated into {output_video}\")\n",
    "else:\n",
    "    print(\"\\nError: The concatenation process failed. Please check the ffmpeg output for details.\")\n"
   ]
  },
  {
   "cell_type": "code",
   "execution_count": 4,
   "metadata": {},
   "outputs": [
    {
     "name": "stderr",
     "output_type": "stream",
     "text": [
      "ffmpeg version 6.1.1 Copyright (c) 2000-2023 the FFmpeg developers\n",
      "  built with gcc 11.2.0 (Anaconda gcc)\n",
      "  configuration: --prefix=/croot/ffmpeg_1722024521393/_h_env_placehold_placehold_placehold_placehold_placehold_placehold_placehold_placehold_placehold_placehold_placehold_placehold_placehold_placehold_placehold_placehold_placehold_placehold_placehold_placehold_placehold_placehold_ --cc=/croot/ffmpeg_1722024521393/_build_env/bin/x86_64-conda-linux-gnu-cc --ar=/croot/ffmpeg_1722024521393/_build_env/bin/x86_64-conda-linux-gnu-ar --nm=/croot/ffmpeg_1722024521393/_build_env/bin/x86_64-conda-linux-gnu-nm --ranlib=/croot/ffmpeg_1722024521393/_build_env/bin/x86_64-conda-linux-gnu-ranlib --strip=/croot/ffmpeg_1722024521393/_build_env/bin/x86_64-conda-linux-gnu-strip --disable-doc --enable-swresample --enable-swscale --enable-openssl --enable-libxml2 --enable-libtheora --enable-demuxer=dash --enable-postproc --enable-hardcoded-tables --enable-libfreetype --enable-libharfbuzz --enable-libfontconfig --enable-libdav1d --enable-zlib --enable-libaom --enable-pic --enable-shared --disable-static --disable-gpl --enable-version3 --disable-sdl2 --enable-libopenh264 --enable-libopus --enable-libmp3lame --enable-libopenjpeg --enable-libvorbis --enable-pthreads --enable-libtesseract --enable-libvpx\n",
      "  libavutil      58. 29.100 / 58. 29.100\n",
      "  libavcodec     60. 31.102 / 60. 31.102\n",
      "  libavformat    60. 16.100 / 60. 16.100\n",
      "  libavdevice    60.  3.100 / 60.  3.100\n",
      "  libavfilter     9. 12.100 /  9. 12.100\n",
      "  libswscale      7.  5.100 /  7.  5.100\n",
      "  libswresample   4. 12.100 /  4. 12.100\n",
      "Input #0, mov,mp4,m4a,3gp,3g2,mj2, from './data/sample_tv360/final/complete_video.mp4':\n",
      "  Metadata:\n",
      "    major_brand     : isom\n",
      "    minor_version   : 512\n",
      "    compatible_brands: isomiso2avc1mp41\n",
      "    encoder         : Lavf60.16.100\n",
      "  Duration: 00:04:30.07, start: 0.000000, bitrate: 1864 kb/s\n",
      "  Stream #0:0[0x1](und): Video: h264 (Constrained Baseline) (avc1 / 0x31637661), yuv420p(tv, bt709, progressive), 640x360 [SAR 1:1 DAR 16:9], 1731 kb/s, 30 fps, 30 tbr, 15360 tbn (default)\n",
      "    Metadata:\n",
      "      handler_name    : ISO Media file produced by Google Inc.\n",
      "      vendor_id       : [0][0][0][0]\n",
      "      encoder         : Lavc60.31.102 libopenh264\n",
      "  Stream #0:1[0x2](und): Audio: aac (LC) (mp4a / 0x6134706D), 44100 Hz, stereo, fltp, 126 kb/s (default)\n",
      "    Metadata:\n",
      "      handler_name    : SoundHandler\n",
      "      vendor_id       : [0][0][0][0]\n",
      "Output #0, mp4, to './data/sample_tv360/final/complete_video_v2.mp4':\n",
      "  Metadata:\n",
      "    major_brand     : isom\n",
      "    minor_version   : 512\n",
      "    compatible_brands: isomiso2avc1mp41\n",
      "    encoder         : Lavf60.16.100\n",
      "  Stream #0:0(und): Video: h264 (Constrained Baseline) (avc1 / 0x31637661), yuv420p(tv, bt709, progressive), 640x360 [SAR 1:1 DAR 16:9], q=2-31, 1731 kb/s, 30 fps, 30 tbr, 15360 tbn (default)\n",
      "    Metadata:\n",
      "      handler_name    : ISO Media file produced by Google Inc.\n",
      "      vendor_id       : [0][0][0][0]\n",
      "      encoder         : Lavc60.31.102 libopenh264\n",
      "  Stream #0:1(und): Audio: aac (LC) (mp4a / 0x6134706D), 44100 Hz, stereo, fltp, 126 kb/s (default)\n",
      "    Metadata:\n",
      "      handler_name    : SoundHandler\n",
      "      vendor_id       : [0][0][0][0]\n",
      "Stream mapping:\n",
      "  Stream #0:0 -> #0:0 (copy)\n",
      "  Stream #0:1 -> #0:1 (copy)\n",
      "Press [q] to stop, [?] for help\n",
      "[out#0/mp4 @ 0x140bdc0] video:57077kB audio:4164kB subtitle:0kB other streams:0kB global headers:0kB muxing overhead: 0.367012%\n",
      "size=   61465kB time=00:04:30.04 bitrate=1864.6kbits/s speed= 859x    \n",
      "ffmpeg version 6.1.1 Copyright (c) 2000-2023 the FFmpeg developers\n",
      "  built with gcc 11.2.0 (Anaconda gcc)\n",
      "  configuration: --prefix=/croot/ffmpeg_1722024521393/_h_env_placehold_placehold_placehold_placehold_placehold_placehold_placehold_placehold_placehold_placehold_placehold_placehold_placehold_placehold_placehold_placehold_placehold_placehold_placehold_placehold_placehold_placehold_ --cc=/croot/ffmpeg_1722024521393/_build_env/bin/x86_64-conda-linux-gnu-cc --ar=/croot/ffmpeg_1722024521393/_build_env/bin/x86_64-conda-linux-gnu-ar --nm=/croot/ffmpeg_1722024521393/_build_env/bin/x86_64-conda-linux-gnu-nm --ranlib=/croot/ffmpeg_1722024521393/_build_env/bin/x86_64-conda-linux-gnu-ranlib --strip=/croot/ffmpeg_1722024521393/_build_env/bin/x86_64-conda-linux-gnu-strip --disable-doc --enable-swresample --enable-swscale --enable-openssl --enable-libxml2 --enable-libtheora --enable-demuxer=dash --enable-postproc --enable-hardcoded-tables --enable-libfreetype --enable-libharfbuzz --enable-libfontconfig --enable-libdav1d --enable-zlib --enable-libaom --enable-pic --enable-shared --disable-static --disable-gpl --enable-version3 --disable-sdl2 --enable-libopenh264 --enable-libopus --enable-libmp3lame --enable-libopenjpeg --enable-libvorbis --enable-pthreads --enable-libtesseract --enable-libvpx\n",
      "  libavutil      58. 29.100 / 58. 29.100\n",
      "  libavcodec     60. 31.102 / 60. 31.102\n",
      "  libavformat    60. 16.100 / 60. 16.100\n",
      "  libavdevice    60.  3.100 / 60.  3.100\n",
      "  libavfilter     9. 12.100 /  9. 12.100\n",
      "  libswscale      7.  5.100 /  7.  5.100\n",
      "  libswresample   4. 12.100 /  4. 12.100\n",
      "Input #0, mov,mp4,m4a,3gp,3g2,mj2, from './data/sample_tv360/final/complete_video_gt.mp4':\n",
      "  Metadata:\n",
      "    major_brand     : isom\n",
      "    minor_version   : 512\n",
      "    compatible_brands: isomiso2avc1mp41\n",
      "    encoder         : Lavf60.16.100\n",
      "  Duration: 00:04:30.07, start: 0.000000, bitrate: 2035 kb/s\n",
      "  Stream #0:0[0x1](und): Video: h264 (Constrained Baseline) (avc1 / 0x31637661), yuv420p(tv, bt709, progressive), 640x360 [SAR 1:1 DAR 16:9], 1900 kb/s, 30 fps, 30 tbr, 15360 tbn (default)\n",
      "    Metadata:\n",
      "      handler_name    : ISO Media file produced by Google Inc.\n",
      "      vendor_id       : [0][0][0][0]\n",
      "      encoder         : Lavc60.31.102 libopenh264\n",
      "  Stream #0:1[0x2](und): Audio: aac (LC) (mp4a / 0x6134706D), 44100 Hz, stereo, fltp, 128 kb/s (default)\n",
      "    Metadata:\n",
      "      handler_name    : ISO Media file produced by Google Inc.\n",
      "      vendor_id       : [0][0][0][0]\n",
      "Output #0, mp4, to './data/sample_tv360/final/complete_video_gt_v2.mp4':\n",
      "  Metadata:\n",
      "    major_brand     : isom\n",
      "    minor_version   : 512\n",
      "    compatible_brands: isomiso2avc1mp41\n",
      "    encoder         : Lavf60.16.100\n",
      "  Stream #0:0(und): Video: h264 (Constrained Baseline) (avc1 / 0x31637661), yuv420p(tv, bt709, progressive), 640x360 [SAR 1:1 DAR 16:9], q=2-31, 1900 kb/s, 30 fps, 30 tbr, 15360 tbn (default)\n",
      "    Metadata:\n",
      "      handler_name    : ISO Media file produced by Google Inc.\n",
      "      vendor_id       : [0][0][0][0]\n",
      "      encoder         : Lavc60.31.102 libopenh264\n",
      "  Stream #0:1(und): Audio: aac (LC) (mp4a / 0x6134706D), 44100 Hz, stereo, fltp, 128 kb/s (default)\n",
      "    Metadata:\n",
      "      handler_name    : ISO Media file produced by Google Inc.\n",
      "      vendor_id       : [0][0][0][0]\n",
      "Stream mapping:\n",
      "  Stream #0:0 -> #0:0 (copy)\n",
      "  Stream #0:1 -> #0:1 (copy)\n",
      "Press [q] to stop, [?] for help\n",
      "[out#0/mp4 @ 0x7ef840] video:62656kB audio:4220kB subtitle:0kB other streams:0kB global headers:0kB muxing overhead: 0.336177%\n",
      "size=   67101kB time=00:04:30.04 bitrate=2035.6kbits/s speed= 777x    \n"
     ]
    },
    {
     "data": {
      "text/plain": [
       "CompletedProcess(args=['ffmpeg', '-y', '-i', './data/sample_tv360/final/complete_video_gt.mp4', '-t', '270.066667', '-c', 'copy', './data/sample_tv360/final/complete_video_gt_v2.mp4'], returncode=0)"
      ]
     },
     "execution_count": 4,
     "metadata": {},
     "output_type": "execute_result"
    }
   ],
   "source": [
    "import subprocess\n",
    "\n",
    "# Đường dẫn đến video\n",
    "video1_path = \"./data/sample_tv360/final/complete_video.mp4\"\n",
    "video2_path = \"./data/sample_tv360/final/complete_video_gt.mp4\"\n",
    "output1_path = \"./data/sample_tv360/final/complete_video_v2.mp4\"\n",
    "output2_path = \"./data/sample_tv360/final/complete_video_gt_v2.mp4\"\n",
    "\n",
    "# Lấy thời lượng của hai video\n",
    "def get_video_duration(video_path):\n",
    "    result = subprocess.run(\n",
    "        [\"ffprobe\", \"-v\", \"error\", \"-show_entries\", \"format=duration\", \"-of\", \"default=noprint_wrappers=1:nokey=1\", video_path],\n",
    "        stdout=subprocess.PIPE,\n",
    "        stderr=subprocess.STDOUT\n",
    "    )\n",
    "    return float(result.stdout)\n",
    "\n",
    "# Tính thời gian chung\n",
    "duration1 = get_video_duration(video1_path)\n",
    "duration2 = get_video_duration(video2_path)\n",
    "common_duration = min(duration1, duration2)\n",
    "\n",
    "# Cắt hai video sao cho có cùng độ dài\n",
    "subprocess.run([\"ffmpeg\", \"-y\",\"-i\", video1_path, \"-t\", str(common_duration), \"-c\", \"copy\", output1_path])\n",
    "subprocess.run([\"ffmpeg\", \"-y\",\"-i\", video2_path, \"-t\", str(common_duration), \"-c\", \"copy\", output2_path])\n"
   ]
  },
  {
   "cell_type": "code",
   "execution_count": null,
   "metadata": {},
   "outputs": [],
   "source": []
  },
  {
   "cell_type": "code",
   "execution_count": 6,
   "metadata": {},
   "outputs": [
    {
     "name": "stderr",
     "output_type": "stream",
     "text": [
      " 22%|██▏       | 2/9 [00:00<00:01,  5.25it/s]"
     ]
    },
    {
     "name": "stdout",
     "output_type": "stream",
     "text": [
      "Đã lưu video: ./data/sample_tv360/gt/chunk_1_gt.mp4\n",
      "Đã lưu video: ./data/sample_tv360/gt/chunk_2_gt.mp4\n"
     ]
    },
    {
     "name": "stderr",
     "output_type": "stream",
     "text": [
      " 44%|████▍     | 4/9 [00:01<00:01,  3.50it/s]"
     ]
    },
    {
     "name": "stdout",
     "output_type": "stream",
     "text": [
      "Đã lưu video: ./data/sample_tv360/gt/chunk_3_gt.mp4\n",
      "Đã lưu video: ./data/sample_tv360/gt/chunk_4_gt.mp4\n"
     ]
    },
    {
     "name": "stderr",
     "output_type": "stream",
     "text": [
      " 56%|█████▌    | 5/9 [00:03<00:03,  1.15it/s]"
     ]
    },
    {
     "name": "stdout",
     "output_type": "stream",
     "text": [
      "Đã lưu video: ./data/sample_tv360/gt/chunk_5_gt.mp4\n"
     ]
    },
    {
     "name": "stderr",
     "output_type": "stream",
     "text": [
      " 78%|███████▊  | 7/9 [00:05<00:01,  1.08it/s]"
     ]
    },
    {
     "name": "stdout",
     "output_type": "stream",
     "text": [
      "Đã lưu video: ./data/sample_tv360/gt/chunk_6_gt.mp4\n",
      "Đã lưu video: ./data/sample_tv360/gt/chunk_7_gt.mp4\n"
     ]
    },
    {
     "name": "stderr",
     "output_type": "stream",
     "text": [
      "100%|██████████| 9/9 [00:05<00:00,  1.60it/s]"
     ]
    },
    {
     "name": "stdout",
     "output_type": "stream",
     "text": [
      "Đã lưu video: ./data/sample_tv360/gt/chunk_8_gt.mp4\n",
      "Đã lưu video: ./data/sample_tv360/gt/chunk_9_gt.mp4\n"
     ]
    },
    {
     "name": "stderr",
     "output_type": "stream",
     "text": [
      "\n"
     ]
    }
   ],
   "source": [
    "### Full version\n",
    "import subprocess\n",
    "import random\n",
    "import cv2\n",
    "import os\n",
    "import math \n",
    "from tqdm import tqdm \n",
    "# Đường dẫn đến video\n",
    "number_of_chunks = math.ceil(get_video_duration('sample_tv360.mp4')/get_video_duration('sample_tv360_highlight.mp4'))\n",
    "chunk_duration = get_video_duration('sample_tv360_highlight.mp4')/number_of_chunks\n",
    "video_path = \"sample_tv360_highlight.mp4\"\n",
    "output_dir = \"./data/sample_tv360/gt\"\n",
    "if os.path.exists(output_dir):\n",
    "    os.makedirs(output_dir, exist_ok=True)\n",
    "\n",
    "for i in tqdm(range(number_of_chunks)):\n",
    "    start_time = i * chunk_duration\n",
    "    start_time_formatted = f\"{int(start_time // 3600):02}:{int((start_time % 3600) // 60):02}:{int(start_time % 60):02}\"\n",
    "    \n",
    "    output_path = os.path.join(output_dir, f\"chunk_{i+1}_gt.mp4\")\n",
    "\n",
    "    ffmpeg_cmd = [\n",
    "        'ffmpeg',\n",
    "        '-y',\n",
    "        '-ss', start_time_formatted,  # Thời gian bắt đầu\n",
    "        '-i', video_path,             # Video đầu vào\n",
    "        '-t', f'{chunk_duration}',    # Thời lượng mỗi đoạn\n",
    "        '-c:v', 'copy',\n",
    "        '-c:a', 'copy',\n",
    "        output_path                   # Đường dẫn đầu ra\n",
    "    ]\n",
    "\n",
    "    subprocess.run(ffmpeg_cmd, stdout=subprocess.DEVNULL, stderr=subprocess.DEVNULL)\n",
    "    print(f\"Đã lưu video: {output_path}\")\n"
   ]
  }
 ],
 "metadata": {
  "kernelspec": {
   "display_name": "Python 3",
   "language": "python",
   "name": "python3"
  },
  "language_info": {
   "codemirror_mode": {
    "name": "ipython",
    "version": 3
   },
   "file_extension": ".py",
   "mimetype": "text/x-python",
   "name": "python",
   "nbconvert_exporter": "python",
   "pygments_lexer": "ipython3",
   "version": "3.10.15"
  }
 },
 "nbformat": 4,
 "nbformat_minor": 2
}
