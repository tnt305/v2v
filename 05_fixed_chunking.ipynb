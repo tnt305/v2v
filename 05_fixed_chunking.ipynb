{
 "cells": [
  {
   "cell_type": "code",
   "execution_count": 1,
   "metadata": {},
   "outputs": [],
   "source": [
    "import subprocess\n",
    "import json\n",
    "import os\n",
    "from tqdm import tqdm\n",
    "import math\n",
    "\n",
    "def get_video_duration(input_file):\n",
    "    cmd = ['ffprobe', '-v', 'quiet', '-print_format', 'json', '-show_format', '-show_streams', input_file]\n",
    "    result = subprocess.run(cmd, capture_output=True, text=True)\n",
    "    data = json.loads(result.stdout)\n",
    "    return float(data['format']['duration'])\n",
    "\n",
    "def split_video_v2(input_file, \n",
    "                   audio_file, \n",
    "                   video_save_dir='video_processed', \n",
    "                   audio_save_dir='audio_processed', \n",
    "                   num_chunks = 3, \n",
    "                   overlap = 0, \n",
    "                   p: int = 1,\n",
    "                   fixed_duration=None):\n",
    "    duration = get_video_duration(input_file)\n",
    "    if fixed_duration:\n",
    "        duration = fixed_duration\n",
    "    print(\"Đây là duration\", duration)\n",
    "    chunk_duration = math.floor((math.ceil(duration) - overlap * (num_chunks - 1)) / num_chunks)\n",
    "    print('Đây là chunk duration', chunk_duration)\n",
    "    save_path_video = os.path.join(\"./data/sample_tv360\", video_save_dir)\n",
    "    save_path_audio = os.path.join(\"./data/sample_tv360\", audio_save_dir)\n",
    "    if not os.path.exists(save_path_video):\n",
    "        os.makedirs(save_path_video, exist_ok=True)\n",
    "    if not os.path.exists(save_path_audio):\n",
    "        os.makedirs(save_path_audio, exist_ok=True)\n",
    "        \n",
    "    for i in tqdm(range(num_chunks)):\n",
    "        # Tính thời gian bắt đầu và tên file\n",
    "        start_time = i * chunk_duration if i == 0 else i * chunk_duration - overlap\n",
    "        end_time = start_time + chunk_duration + (0 if i == 0 else overlap)\n",
    "        \n",
    "        video_output = f'{save_path_video}/video_processed_{p}.mp4'\n",
    "        audio_output = f'{save_path_audio}/audio_processed_{p}.wav'\n",
    "        \n",
    "        video_cmd = [\n",
    "            'ffmpeg',\n",
    "            '-y',  # Thêm tùy chọn để tự động ghi đè\n",
    "            '-i', input_file,\n",
    "            '-ss', str(start_time),\n",
    "            '-t', str(chunk_duration + (0 if i == 0 else overlap)),\n",
    "            '-r', '30',\n",
    "            '-c', 'copy',\n",
    "            video_output\n",
    "        ]\n",
    "        \n",
    "        audio_cmd = [\n",
    "            'ffmpeg',\n",
    "            '-y',  # Tự động ghi đè\n",
    "            '-i', audio_file,\n",
    "            '-ss', str(start_time),\n",
    "            '-t', str(chunk_duration + (0 if i == 0 else overlap)),\n",
    "            '-c', 'copy',  # Duy trì chất lượng âm thanh gốc\n",
    "            audio_output\n",
    "        ]\n",
    "        \n",
    "        subprocess.run(video_cmd, stdout=subprocess.DEVNULL, stderr=subprocess.DEVNULL)\n",
    "        subprocess.run(audio_cmd, stdout=subprocess.DEVNULL, stderr=subprocess.DEVNULL)\n",
    "        print(f'Video {video_output} has been created')\n",
    "        print(f'Audio {audio_output} has been created')\n",
    "        print(f'Chunk {i+1}: Start - {start_time} seconds, End - {end_time} seconds')\n",
    "        \n",
    "        # Chỉ lưu video và âm thanh đầu tiên, sau đó thoát vòng lặp\n",
    "        break\n",
    "\n",
    "    return start_time, end_time\n",
    "\n",
    "# Sử dụng hàm\n",
    "# input_file = \"./data/sample_tv360/video_raw\"\n",
    "# audio_file = \"./data/sample_tv360/audio_raw\"\n",
    "# split_video_v2(f\"{input_file}/video_raw_1.mp4\", f\"{audio_file}/audio_raw_1.wav\")\n"
   ]
  },
  {
   "cell_type": "markdown",
   "metadata": {},
   "source": [
    "## Real path"
   ]
  },
  {
   "cell_type": "code",
   "execution_count": 2,
   "metadata": {},
   "outputs": [
    {
     "name": "stdout",
     "output_type": "stream",
     "text": [
      "Đây là duration 81.0\n",
      "Đây là chunk duration 27\n"
     ]
    },
    {
     "name": "stderr",
     "output_type": "stream",
     "text": [
      "  0%|          | 0/3 [00:00<?, ?it/s]"
     ]
    },
    {
     "name": "stderr",
     "output_type": "stream",
     "text": [
      "  0%|          | 0/3 [00:00<?, ?it/s]\n"
     ]
    },
    {
     "name": "stdout",
     "output_type": "stream",
     "text": [
      "Video ./data/sample_tv360/video_processed/video_processed_1.mp4 has been created\n",
      "Audio ./data/sample_tv360/audio_processed/audio_processed_1.wav has been created\n",
      "Chunk 1: Start - 0 seconds, End - 27 seconds\n",
      "Đây là duration 81.0\n",
      "Đây là chunk duration 27\n"
     ]
    },
    {
     "name": "stderr",
     "output_type": "stream",
     "text": [
      "  0%|          | 0/3 [00:00<?, ?it/s]\n"
     ]
    },
    {
     "name": "stdout",
     "output_type": "stream",
     "text": [
      "Video ./data/sample_tv360/video_processed/video_processed_2.mp4 has been created\n",
      "Audio ./data/sample_tv360/audio_processed/audio_processed_2.wav has been created\n",
      "Chunk 1: Start - 0 seconds, End - 27 seconds\n",
      "Đây là duration 81.0\n",
      "Đây là chunk duration 27\n"
     ]
    },
    {
     "name": "stderr",
     "output_type": "stream",
     "text": [
      "  0%|          | 0/3 [00:00<?, ?it/s]\n"
     ]
    },
    {
     "name": "stdout",
     "output_type": "stream",
     "text": [
      "Video ./data/sample_tv360/video_processed/video_processed_3.mp4 has been created\n",
      "Audio ./data/sample_tv360/audio_processed/audio_processed_3.wav has been created\n",
      "Chunk 1: Start - 0 seconds, End - 27 seconds\n",
      "Đây là duration 81.0\n",
      "Đây là chunk duration 27\n"
     ]
    },
    {
     "name": "stderr",
     "output_type": "stream",
     "text": [
      "  0%|          | 0/3 [00:00<?, ?it/s]\n"
     ]
    },
    {
     "name": "stdout",
     "output_type": "stream",
     "text": [
      "Video ./data/sample_tv360/video_processed/video_processed_4.mp4 has been created\n",
      "Audio ./data/sample_tv360/audio_processed/audio_processed_4.wav has been created\n",
      "Chunk 1: Start - 0 seconds, End - 27 seconds\n",
      "Đây là duration 81.0\n",
      "Đây là chunk duration 27\n"
     ]
    },
    {
     "name": "stderr",
     "output_type": "stream",
     "text": [
      "  0%|          | 0/3 [00:00<?, ?it/s]\n"
     ]
    },
    {
     "name": "stdout",
     "output_type": "stream",
     "text": [
      "Video ./data/sample_tv360/video_processed/video_processed_5.mp4 has been created\n",
      "Audio ./data/sample_tv360/audio_processed/audio_processed_5.wav has been created\n",
      "Chunk 1: Start - 0 seconds, End - 27 seconds\n",
      "Đây là duration 81.0\n",
      "Đây là chunk duration 27\n"
     ]
    },
    {
     "name": "stderr",
     "output_type": "stream",
     "text": [
      "  0%|          | 0/3 [00:00<?, ?it/s]\n"
     ]
    },
    {
     "name": "stdout",
     "output_type": "stream",
     "text": [
      "Video ./data/sample_tv360/video_processed/video_processed_6.mp4 has been created\n",
      "Audio ./data/sample_tv360/audio_processed/audio_processed_6.wav has been created\n",
      "Chunk 1: Start - 0 seconds, End - 27 seconds\n",
      "Đây là duration 81.0\n",
      "Đây là chunk duration 27\n"
     ]
    },
    {
     "name": "stderr",
     "output_type": "stream",
     "text": [
      "  0%|          | 0/3 [00:00<?, ?it/s]\n"
     ]
    },
    {
     "name": "stdout",
     "output_type": "stream",
     "text": [
      "Video ./data/sample_tv360/video_processed/video_processed_7.mp4 has been created\n",
      "Audio ./data/sample_tv360/audio_processed/audio_processed_7.wav has been created\n",
      "Chunk 1: Start - 0 seconds, End - 27 seconds\n",
      "Đây là duration 81.0\n",
      "Đây là chunk duration 27\n"
     ]
    },
    {
     "name": "stderr",
     "output_type": "stream",
     "text": [
      "  0%|          | 0/3 [00:00<?, ?it/s]\n"
     ]
    },
    {
     "name": "stdout",
     "output_type": "stream",
     "text": [
      "Video ./data/sample_tv360/video_processed/video_processed_8.mp4 has been created\n",
      "Audio ./data/sample_tv360/audio_processed/audio_processed_8.wav has been created\n",
      "Chunk 1: Start - 0 seconds, End - 27 seconds\n",
      "Đây là duration 80.966667\n",
      "Đây là chunk duration 27\n"
     ]
    },
    {
     "name": "stderr",
     "output_type": "stream",
     "text": [
      "  0%|          | 0/3 [00:00<?, ?it/s]\n"
     ]
    },
    {
     "name": "stdout",
     "output_type": "stream",
     "text": [
      "Video ./data/sample_tv360/video_processed/video_processed_9.mp4 has been created\n",
      "Audio ./data/sample_tv360/audio_processed/audio_processed_9.wav has been created\n",
      "Chunk 1: Start - 0 seconds, End - 27 seconds\n",
      "Đây là duration 80.966667\n",
      "Đây là chunk duration 27\n"
     ]
    },
    {
     "name": "stderr",
     "output_type": "stream",
     "text": [
      "  0%|          | 0/3 [00:00<?, ?it/s]"
     ]
    },
    {
     "name": "stdout",
     "output_type": "stream",
     "text": [
      "Video ./data/sample_tv360/video_processed/video_processed_10.mp4 has been created\n",
      "Audio ./data/sample_tv360/audio_processed/audio_processed_10.wav has been created\n",
      "Chunk 1: Start - 0 seconds, End - 27 seconds\n"
     ]
    },
    {
     "name": "stderr",
     "output_type": "stream",
     "text": [
      "\n"
     ]
    }
   ],
   "source": [
    "video_raw = os.listdir('./data/sample_tv360/video_raw')\n",
    "audio_raw = os.listdir('./data/sample_tv360/audio_raw')\n",
    "# Sắp xếp theo thứ tự tăng dần dựa trên phần số trong tên file\n",
    "sorted_video_raw = sorted(video_raw, key= lambda x: int(x.split('_')[-1].split('.')[0]))\n",
    "sorted_audio_raw = sorted(audio_raw, key= lambda x: int(x.split('_')[-1].split('.')[0]))\n",
    "\n",
    "for i, j in zip(sorted_video_raw, sorted_audio_raw):\n",
    "    step = 1\n",
    "    try:\n",
    "        assert int(i.rsplit(\".\")[0].split(\"_\")[-1]) == int(j.rsplit(\".\")[0].split(\"_\")[-1])\n",
    "        p = int(i.rsplit(\".\")[0].split(\"_\")[-1])\n",
    "    except:\n",
    "        pass\n",
    "    split_video_v2(f\"./data/sample_tv360/video_raw/{i}\", f\"./data/sample_tv360/audio_raw/{j}\", p = p)"
   ]
  },
  {
   "cell_type": "code",
   "execution_count": 3,
   "metadata": {},
   "outputs": [
    {
     "name": "stdout",
     "output_type": "stream",
     "text": [
      "Merged video_processed_1.mp4 and audio_processed_1.wav into ./data/sample_tv360/do_merge/merged_video_processed_1.mp4\n",
      "Merged video_processed_2.mp4 and audio_processed_2.wav into ./data/sample_tv360/do_merge/merged_video_processed_2.mp4\n",
      "Merged video_processed_3.mp4 and audio_processed_3.wav into ./data/sample_tv360/do_merge/merged_video_processed_3.mp4\n",
      "Merged video_processed_4.mp4 and audio_processed_4.wav into ./data/sample_tv360/do_merge/merged_video_processed_4.mp4\n",
      "Merged video_processed_5.mp4 and audio_processed_5.wav into ./data/sample_tv360/do_merge/merged_video_processed_5.mp4\n",
      "Merged video_processed_6.mp4 and audio_processed_6.wav into ./data/sample_tv360/do_merge/merged_video_processed_6.mp4\n",
      "Merged video_processed_7.mp4 and audio_processed_7.wav into ./data/sample_tv360/do_merge/merged_video_processed_7.mp4\n",
      "Merged video_processed_8.mp4 and audio_processed_8.wav into ./data/sample_tv360/do_merge/merged_video_processed_8.mp4\n",
      "Merged video_processed_9.mp4 and audio_processed_9.wav into ./data/sample_tv360/do_merge/merged_video_processed_9.mp4\n",
      "Merged video_processed_10.mp4 and audio_processed_10.wav into ./data/sample_tv360/do_merge/merged_video_processed_10.mp4\n"
     ]
    }
   ],
   "source": [
    "import os\n",
    "import subprocess\n",
    "\n",
    "# Đường dẫn đến các thư mục chứa video và audio\n",
    "video_dir = './data/sample_tv360/video_processed'\n",
    "audio_dir = './data/sample_tv360/audio_processed'\n",
    "output_dir = './data/sample_tv360/do_merge'\n",
    "\n",
    "# Tạo thư mục output nếu chưa tồn tại\n",
    "if not os.path.exists(output_dir):\n",
    "    os.makedirs(output_dir, exist_ok=True)\n",
    "\n",
    "# Lấy danh sách file video và audio, sau đó sắp xếp\n",
    "video_processed = os.listdir(video_dir)\n",
    "audio_processed = os.listdir(audio_dir)\n",
    "\n",
    "sorted_video_processed = sorted(video_processed, key=lambda x: int(x.split('_')[-1].split('.')[0]))\n",
    "sorted_audio_processed = sorted(audio_processed, key=lambda x: int(x.split('_')[-1].split('.')[0]))\n",
    "\n",
    "# Ghép từng cặp video và audio\n",
    "for video_file, audio_file in zip(sorted_video_processed, sorted_audio_processed):\n",
    "    video_path = os.path.join(video_dir, video_file)\n",
    "    audio_path = os.path.join(audio_dir, audio_file)\n",
    "    output_path = os.path.join(output_dir, f'merged_{video_file.split(\".\")[0]}.mp4')  # Đảm bảo phần mở rộng .mp4\n",
    "    \n",
    "    # Lệnh ffmpeg để ghép video và audio\n",
    "    cmd = [\n",
    "        'ffmpeg',\n",
    "        '-y',  # Ghi đè file nếu đã tồn tại\n",
    "        '-i', video_path,\n",
    "        '-i', audio_path,\n",
    "        '-c:v', 'copy',  # Sao chép codec video gốc\n",
    "        '-c:a', 'aac',   # Chuyển mã âm thanh sang aac để tương thích\n",
    "        '-r', '30',\n",
    "        '-strict', 'experimental',\n",
    "        output_path\n",
    "    ]\n",
    "    \n",
    "    # Chạy lệnh ghép video và audio\n",
    "    subprocess.run(cmd, stdout=subprocess.DEVNULL, stderr=subprocess.DEVNULL)\n",
    "    print(f'Merged {video_file} and {audio_file} into {output_path}')\n"
   ]
  },
  {
   "cell_type": "code",
   "execution_count": 4,
   "metadata": {},
   "outputs": [
    {
     "name": "stdout",
     "output_type": "stream",
     "text": [
      "Running ffmpeg to concatenate videos...\n",
      "\n",
      "All videos have been successfully concatenated into ./data/sample_tv360/final/complete_video.mp4\n"
     ]
    }
   ],
   "source": [
    "import os\n",
    "import subprocess\n",
    "from tqdm import tqdm\n",
    "\n",
    "# Đường dẫn đến thư mục chứa các video cần nối\n",
    "final_dir = './data/sample_tv360/do_merge'\n",
    "\n",
    "# Tạo thư mục output nếu chưa tồn tại\n",
    "final_output_dir = './data/sample_tv360/final'\n",
    "if not os.path.exists(final_output_dir):\n",
    "    os.makedirs(final_output_dir)\n",
    "\n",
    "# Đường dẫn đến video sau khi nối\n",
    "output_video = os.path.join(final_output_dir, 'complete_video.mp4')\n",
    "file_list_path = os.path.join(final_output_dir, 'merges.txt')\n",
    "\n",
    "# Tạo file danh sách các video để nối với tqdm\n",
    "with open(file_list_path, 'w') as f:\n",
    "    for video_file in sorted(os.listdir(final_dir), key=lambda x: int(x.split('_')[-1].split('.')[0])):\n",
    "        file_path = os.path.join(final_dir, video_file)\n",
    "        # Thêm đường dẫn chính xác vào file_list_path\n",
    "        f.write(f\"file '{os.path.abspath(file_path)}'\\n\")\n",
    "\n",
    "# # Kiểm tra nội dung file_list.txt\n",
    "# print(\"\\nList of files to be concatenated:\")\n",
    "# with open(file_list_path, 'r') as f:\n",
    "#     print(f.read())\n",
    "\n",
    "# Lệnh ffmpeg để nối video, chuyển hướng stdout và stderr để ẩn thông báo từ ffmpeg\n",
    "concat_cmd = [\n",
    "    'ffmpeg',\n",
    "    '-y',\n",
    "    '-f', 'concat',\n",
    "    '-safe', '0',\n",
    "    '-i', file_list_path,\n",
    "    '-c:v', 'libopenh264',  # Mã hóa lại video với libopenh264\n",
    "    '-c:a', 'aac',          # Mã hóa lại audio với aac\n",
    "    '-strict', 'experimental',\n",
    "    output_video\n",
    "]\n",
    "\n",
    "# Chạy lệnh nối video và tắt đầu ra của ffmpeg\n",
    "print(\"Running ffmpeg to concatenate videos...\")\n",
    "subprocess.run(concat_cmd, stdout=subprocess.DEVNULL, stderr=subprocess.DEVNULL)\n",
    "\n",
    "# Kiểm tra xem file output có được tạo thành công không\n",
    "if os.path.exists(output_video):\n",
    "    print(f\"\\nAll videos have been successfully concatenated into {output_video}\")\n",
    "else:\n",
    "    print(\"\\nError: The concatenation process failed. Please check the ffmpeg output for details.\")\n"
   ]
  },
  {
   "cell_type": "code",
   "execution_count": null,
   "metadata": {},
   "outputs": [],
   "source": []
  },
  {
   "cell_type": "code",
   "execution_count": 7,
   "metadata": {},
   "outputs": [
    {
     "name": "stdout",
     "output_type": "stream",
     "text": [
      "Created data/sample_tv360/video_chunk/chunk_1.mp4 with start time 0 and end time 81\n",
      "Created data/sample_tv360/video_chunk/chunk_2.mp4 with start time 71 and end time 152\n",
      "Created data/sample_tv360/video_chunk/chunk_3.mp4 with start time 147 and end time 228\n",
      "Created data/sample_tv360/video_chunk/chunk_4.mp4 with start time 223 and end time 304\n",
      "Created data/sample_tv360/video_chunk/chunk_5.mp4 with start time 299 and end time 380\n",
      "Created data/sample_tv360/video_chunk/chunk_6.mp4 with start time 375 and end time 456\n",
      "Created data/sample_tv360/video_chunk/chunk_7.mp4 with start time 451 and end time 532\n",
      "Created data/sample_tv360/video_chunk/chunk_8.mp4 with start time 527 and end time 608\n",
      "Created data/sample_tv360/video_chunk/chunk_9.mp4 with start time 603 and end time 684\n",
      "Created data/sample_tv360/video_chunk/chunk_10.mp4 with start time 679 and end time 760\n"
     ]
    }
   ],
   "source": [
    "## Version 2\n",
    "\n",
    "import subprocess\n",
    "import json\n",
    "import os\n",
    "import math\n",
    "import csv\n",
    "import random\n",
    "\n",
    "def get_video_duration(input_file):\n",
    "    cmd = ['ffprobe', '-v', 'quiet', '-print_format', 'json', '-show_format', '-show_streams', input_file]\n",
    "    result = subprocess.run(cmd, capture_output=True, text=True)\n",
    "    data = json.loads(result.stdout)\n",
    "    return float(data['format']['duration'])\n",
    "\n",
    "def split_video(input_file, save_dir, chunk_path='video_chunk', num_chunks=10, overlap=5):\n",
    "    duration = get_video_duration(input_file)\n",
    "    chunk_duration = math.floor((duration - overlap * (num_chunks - 1)) / num_chunks)\n",
    "    \n",
    "    if not os.path.exists(save_dir):\n",
    "        os.makedirs(save_dir)\n",
    "        \n",
    "    root_dir = input_file.rsplit(\".\", 1)[0]\n",
    "    save_path = os.path.join(save_dir, root_dir, chunk_path)\n",
    "    os.makedirs(save_path, exist_ok=True)\n",
    "    \n",
    "    csv_file_path = os.path.join(save_path, f\"{chunk_path}_{num_chunks}_scenes_gt.csv\")\n",
    "    \n",
    "    with open(csv_file_path, mode = 'w', newline = '') as csv_file:\n",
    "        csv_writer = csv.writer(csv_file)\n",
    "        csv_writer.writerow(['Video Segment', 'gt_start', 'gt_end'])\n",
    "        \n",
    "        for i in range(num_chunks):\n",
    "            start_time = i * chunk_duration if i == 0 else i * chunk_duration - overlap\n",
    "            end_time = start_time + chunk_duration + (overlap if i != 0 else overlap)\n",
    "            output_file = f'{save_path}/chunk_{i+1}.mp4'\n",
    "            \n",
    "            cmd = [\n",
    "                'ffmpeg',\n",
    "                '-y',\n",
    "                '-i', input_file,\n",
    "                '-ss', str(math.floor(start_time)),\n",
    "                '-to', str(math.floor(end_time)),\n",
    "                '-r', '30',\n",
    "                '-c', 'copy',\n",
    "                output_file\n",
    "            ]\n",
    "            \n",
    "            subprocess.run(cmd, stdout=subprocess.DEVNULL, stderr=subprocess.DEVNULL)\n",
    "            print(f'Created {output_file} with start time {math.floor(start_time)} and end time {math.floor(end_time)}')\n",
    "            random_value = random.randint(math.floor(start_time), end_time - 27)\n",
    "            csv_writer.writerow([i, random_value, random_value + 27])\n",
    "# Usage\n",
    "input_file = 'sample_tv360.mp4'\n",
    "save_dir = 'data'\n",
    "split_video(input_file, save_dir)\n"
   ]
  }
 ],
 "metadata": {
  "kernelspec": {
   "display_name": "Python 3",
   "language": "python",
   "name": "python3"
  },
  "language_info": {
   "codemirror_mode": {
    "name": "ipython",
    "version": 3
   },
   "file_extension": ".py",
   "mimetype": "text/x-python",
   "name": "python",
   "nbconvert_exporter": "python",
   "pygments_lexer": "ipython3",
   "version": "3.10.15"
  }
 },
 "nbformat": 4,
 "nbformat_minor": 2
}
