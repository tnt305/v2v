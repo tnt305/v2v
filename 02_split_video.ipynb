{
 "cells": [
  {
   "cell_type": "code",
   "execution_count": 1,
   "metadata": {},
   "outputs": [
    {
     "name": "stderr",
     "output_type": "stream",
     "text": [
      "  0%|          | 0/10 [00:00<?, ?it/s]"
     ]
    },
    {
     "name": "stdout",
     "output_type": "stream",
     "text": [
      "\n",
      "Đang xử lý ./data/sample_tv360/video_chunk/chunk_1.mp4...\n"
     ]
    },
    {
     "name": "stderr",
     "output_type": "stream",
     "text": [
      " 10%|█         | 1/10 [00:04<00:38,  4.23s/it]"
     ]
    },
    {
     "name": "stdout",
     "output_type": "stream",
     "text": [
      "Đã xử lý ./data/sample_tv360/video_chunk/chunk_1.mp4:\n",
      "  - Video không âm thanh: ./data/sample_tv360/video_raw/video_raw_1.mp4\n",
      "  - File âm thanh: ./data/sample_tv360/audio_raw/audio_raw_1.wav\n",
      "\n",
      "Đang xử lý ./data/sample_tv360/video_chunk/chunk_2.mp4...\n"
     ]
    },
    {
     "name": "stderr",
     "output_type": "stream",
     "text": [
      " 20%|██        | 2/10 [00:12<00:53,  6.69s/it]"
     ]
    },
    {
     "name": "stdout",
     "output_type": "stream",
     "text": [
      "Đã xử lý ./data/sample_tv360/video_chunk/chunk_2.mp4:\n",
      "  - Video không âm thanh: ./data/sample_tv360/video_raw/video_raw_2.mp4\n",
      "  - File âm thanh: ./data/sample_tv360/audio_raw/audio_raw_2.wav\n",
      "\n",
      "Đang xử lý ./data/sample_tv360/video_chunk/chunk_3.mp4...\n"
     ]
    },
    {
     "name": "stderr",
     "output_type": "stream",
     "text": [
      " 30%|███       | 3/10 [00:18<00:45,  6.53s/it]"
     ]
    },
    {
     "name": "stdout",
     "output_type": "stream",
     "text": [
      "Đã xử lý ./data/sample_tv360/video_chunk/chunk_3.mp4:\n",
      "  - Video không âm thanh: ./data/sample_tv360/video_raw/video_raw_3.mp4\n",
      "  - File âm thanh: ./data/sample_tv360/audio_raw/audio_raw_3.wav\n",
      "\n",
      "Đang xử lý ./data/sample_tv360/video_chunk/chunk_4.mp4...\n"
     ]
    },
    {
     "name": "stderr",
     "output_type": "stream",
     "text": [
      " 40%|████      | 4/10 [00:24<00:37,  6.28s/it]"
     ]
    },
    {
     "name": "stdout",
     "output_type": "stream",
     "text": [
      "Đã xử lý ./data/sample_tv360/video_chunk/chunk_4.mp4:\n",
      "  - Video không âm thanh: ./data/sample_tv360/video_raw/video_raw_4.mp4\n",
      "  - File âm thanh: ./data/sample_tv360/audio_raw/audio_raw_4.wav\n",
      "\n",
      "Đang xử lý ./data/sample_tv360/video_chunk/chunk_5.mp4...\n"
     ]
    },
    {
     "name": "stderr",
     "output_type": "stream",
     "text": [
      " 50%|█████     | 5/10 [00:32<00:33,  6.69s/it]"
     ]
    },
    {
     "name": "stdout",
     "output_type": "stream",
     "text": [
      "Đã xử lý ./data/sample_tv360/video_chunk/chunk_5.mp4:\n",
      "  - Video không âm thanh: ./data/sample_tv360/video_raw/video_raw_5.mp4\n",
      "  - File âm thanh: ./data/sample_tv360/audio_raw/audio_raw_5.wav\n",
      "\n",
      "Đang xử lý ./data/sample_tv360/video_chunk/chunk_6.mp4...\n"
     ]
    },
    {
     "name": "stderr",
     "output_type": "stream",
     "text": [
      " 60%|██████    | 6/10 [00:39<00:27,  6.83s/it]"
     ]
    },
    {
     "name": "stdout",
     "output_type": "stream",
     "text": [
      "Đã xử lý ./data/sample_tv360/video_chunk/chunk_6.mp4:\n",
      "  - Video không âm thanh: ./data/sample_tv360/video_raw/video_raw_6.mp4\n",
      "  - File âm thanh: ./data/sample_tv360/audio_raw/audio_raw_6.wav\n",
      "\n",
      "Đang xử lý ./data/sample_tv360/video_chunk/chunk_7.mp4...\n"
     ]
    },
    {
     "name": "stderr",
     "output_type": "stream",
     "text": [
      " 70%|███████   | 7/10 [00:45<00:19,  6.57s/it]"
     ]
    },
    {
     "name": "stdout",
     "output_type": "stream",
     "text": [
      "Đã xử lý ./data/sample_tv360/video_chunk/chunk_7.mp4:\n",
      "  - Video không âm thanh: ./data/sample_tv360/video_raw/video_raw_7.mp4\n",
      "  - File âm thanh: ./data/sample_tv360/audio_raw/audio_raw_7.wav\n",
      "\n",
      "Đang xử lý ./data/sample_tv360/video_chunk/chunk_8.mp4...\n"
     ]
    },
    {
     "name": "stderr",
     "output_type": "stream",
     "text": [
      " 80%|████████  | 8/10 [00:52<00:13,  6.86s/it]"
     ]
    },
    {
     "name": "stdout",
     "output_type": "stream",
     "text": [
      "Đã xử lý ./data/sample_tv360/video_chunk/chunk_8.mp4:\n",
      "  - Video không âm thanh: ./data/sample_tv360/video_raw/video_raw_8.mp4\n",
      "  - File âm thanh: ./data/sample_tv360/audio_raw/audio_raw_8.wav\n",
      "\n",
      "Đang xử lý ./data/sample_tv360/video_chunk/chunk_9.mp4...\n"
     ]
    },
    {
     "name": "stderr",
     "output_type": "stream",
     "text": [
      " 90%|█████████ | 9/10 [00:59<00:06,  6.71s/it]"
     ]
    },
    {
     "name": "stdout",
     "output_type": "stream",
     "text": [
      "Đã xử lý ./data/sample_tv360/video_chunk/chunk_9.mp4:\n",
      "  - Video không âm thanh: ./data/sample_tv360/video_raw/video_raw_9.mp4\n",
      "  - File âm thanh: ./data/sample_tv360/audio_raw/audio_raw_9.wav\n",
      "\n",
      "Đang xử lý ./data/sample_tv360/video_chunk/chunk_10.mp4...\n"
     ]
    },
    {
     "name": "stderr",
     "output_type": "stream",
     "text": [
      "100%|██████████| 10/10 [01:06<00:00,  6.63s/it]"
     ]
    },
    {
     "name": "stdout",
     "output_type": "stream",
     "text": [
      "Đã xử lý ./data/sample_tv360/video_chunk/chunk_10.mp4:\n",
      "  - Video không âm thanh: ./data/sample_tv360/video_raw/video_raw_10.mp4\n",
      "  - File âm thanh: ./data/sample_tv360/audio_raw/audio_raw_10.wav\n",
      "\n",
      "Hoàn thành xử lý tất cả các chunk vào audio và video raw\n"
     ]
    },
    {
     "name": "stderr",
     "output_type": "stream",
     "text": [
      "\n"
     ]
    }
   ],
   "source": [
    "import subprocess\n",
    "from tqdm import tqdm\n",
    "import os\n",
    "\n",
    "def process_video(input_file: str, video_type: str = 'raw', which_chunk: int = 1):\n",
    "    assert video_type in ['raw', 'processed']\n",
    "    # Tên file đầu ra\n",
    "    root_dir = './data/sample_tv360'\n",
    "    \n",
    "    if os.path.exists(root_dir):\n",
    "        if not os.path.exists(os.path.join(root_dir, 'video_raw')):\n",
    "            os.makedirs(os.path.join(root_dir, 'video_raw'))\n",
    "        if not os.path.exists(os.path.join(root_dir, 'audio_raw')):\n",
    "            os.makedirs(os.path.join(root_dir, 'audio_raw'))\n",
    "            \n",
    "    raw_video_dir = os.path.join(root_dir, 'video_raw')\n",
    "    raw_audio_dir = os.path.join(root_dir, 'audio_raw')\n",
    "    raw_video = f\"{raw_video_dir}/video_{video_type}_{which_chunk}.mp4\"\n",
    "    raw_audio = f\"{raw_audio_dir}/audio_{video_type}_{which_chunk}.wav\"\n",
    "    # Xử lý video và audio cùng lúc\n",
    "    video_cmd = [\n",
    "        'ffmpeg',\n",
    "        '-i', input_file,\n",
    "        '-y', \n",
    "        '-an', \n",
    "        '-r', '30',\n",
    "        '-c:v', 'libopenh264',\n",
    "        raw_video,\n",
    "    ]\n",
    "    audio_cmd = [\n",
    "        'ffmpeg',\n",
    "        '-i', input_file,\n",
    "        '-y',\n",
    "        '-vn',\n",
    "        '-acodec', 'pcm_s16le',\n",
    "        '-ar', '44100',\n",
    "        '-ac','2',\n",
    "        raw_audio\n",
    "    ]\n",
    "    \n",
    "    subprocess.run(video_cmd, stdout=subprocess.DEVNULL, stderr=subprocess.DEVNULL)\n",
    "    subprocess.run(audio_cmd, stdout=subprocess.DEVNULL, stderr=subprocess.DEVNULL)\n",
    "\n",
    "    print(f\"Đã xử lý {input_file}:\")\n",
    "    print(f\"  - Video không âm thanh: {raw_video}\")\n",
    "    print(f\"  - File âm thanh: {raw_audio}\")\n",
    "\n",
    "# Xử lý tất cả các chunk video\n",
    "for i in tqdm(range(1, 11)):  # Giả sử có 10 chunk từ 1 đến 10\n",
    "    input_file = f'./data/sample_tv360/video_chunk/chunk_{i}.mp4'\n",
    "    if os.path.exists(input_file):\n",
    "        print(f\"\\nĐang xử lý {input_file}...\")\n",
    "        process_video(input_file, video_type =  'raw', which_chunk = i)\n",
    "    else:\n",
    "        print(f\"Không tìm thấy file {input_file}\")\n",
    "\n",
    "print(\"\\nHoàn thành xử lý tất cả các chunk vào audio và video raw\")\n"
   ]
  }
 ],
 "metadata": {
  "kernelspec": {
   "display_name": "Python 3",
   "language": "python",
   "name": "python3"
  },
  "language_info": {
   "codemirror_mode": {
    "name": "ipython",
    "version": 3
   },
   "file_extension": ".py",
   "mimetype": "text/x-python",
   "name": "python",
   "nbconvert_exporter": "python",
   "pygments_lexer": "ipython3",
   "version": "3.10.15"
  }
 },
 "nbformat": 4,
 "nbformat_minor": 2
}
