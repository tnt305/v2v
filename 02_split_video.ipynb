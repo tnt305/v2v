{
 "cells": [
  {
   "cell_type": "code",
   "execution_count": 1,
   "metadata": {},
   "outputs": [],
   "source": [
    "import json\n",
    "import subprocess\n",
    "def get_video_fps(file_path):\n",
    "    cmd = [\n",
    "        'ffprobe', \n",
    "        '-v', 'quiet', \n",
    "        '-print_format', 'json', \n",
    "        '-show_streams', \n",
    "        file_path\n",
    "    ]\n",
    "    result = subprocess.run(cmd, capture_output=True, text=True)\n",
    "    data = json.loads(result.stdout)\n",
    "\n",
    "    if 'streams' in data and len(data['streams']) > 0:\n",
    "        fps_info = data['streams'][0].get('r_frame_rate', '0/1')\n",
    "        numerator, denominator = map(int, fps_info.split('/'))\n",
    "        fps = numerator / denominator\n",
    "        return fps\n",
    "    else:\n",
    "        raise ValueError(\"Không thể lấy thông tin FPS từ dữ liệu trả về của ffprobe.\")\n",
    "\n",
    "def get_video_duration(input_file):\n",
    "    cmd = [\n",
    "        'ffprobe', \n",
    "        '-v', 'quiet', \n",
    "        '-print_format', 'json', \n",
    "        '-show_format', \n",
    "        '-show_streams', \n",
    "        input_file\n",
    "    ]\n",
    "    result = subprocess.run(cmd, capture_output=True, text=True)\n",
    "    try:\n",
    "        data = json.loads(result.stdout)\n",
    "        if 'format' in data and 'duration' in data['format']:\n",
    "            return float(data['format']['duration'])\n",
    "        else:\n",
    "            raise ValueError(\"Không tìm thấy thông tin độ dài video.\")\n",
    "    except json.JSONDecodeError:\n",
    "        raise ValueError(\"Lỗi phân tích cú pháp JSON từ ffprobe.\")"
   ]
  },
  {
   "cell_type": "code",
   "execution_count": 4,
   "metadata": {},
   "outputs": [
    {
     "name": "stderr",
     "output_type": "stream",
     "text": [
      "  0%|          | 0/9 [00:00<?, ?it/s]"
     ]
    },
    {
     "name": "stdout",
     "output_type": "stream",
     "text": [
      "\n",
      "Đang xử lý ./data/sample_tv360/video_chunk/chunk_1.mp4...\n"
     ]
    },
    {
     "name": "stderr",
     "output_type": "stream",
     "text": [
      " 11%|█         | 1/9 [04:19<34:37, 259.74s/it]"
     ]
    },
    {
     "name": "stdout",
     "output_type": "stream",
     "text": [
      "Đã xử lý ./data/sample_tv360/video_chunk/chunk_1.mp4:\n",
      "  - Video không âm thanh: ./data/sample_tv360/video_raw/video_raw_1.mp4\n",
      "  - File âm thanh: ./data/sample_tv360/audio_raw/audio_raw_1.wav\n",
      "\n",
      "Đang xử lý ./data/sample_tv360/video_chunk/chunk_2.mp4...\n"
     ]
    },
    {
     "name": "stderr",
     "output_type": "stream",
     "text": [
      " 22%|██▏       | 2/9 [08:58<31:35, 270.77s/it]"
     ]
    },
    {
     "name": "stdout",
     "output_type": "stream",
     "text": [
      "Đã xử lý ./data/sample_tv360/video_chunk/chunk_2.mp4:\n",
      "  - Video không âm thanh: ./data/sample_tv360/video_raw/video_raw_2.mp4\n",
      "  - File âm thanh: ./data/sample_tv360/audio_raw/audio_raw_2.wav\n",
      "\n",
      "Đang xử lý ./data/sample_tv360/video_chunk/chunk_3.mp4...\n"
     ]
    },
    {
     "name": "stderr",
     "output_type": "stream",
     "text": [
      " 33%|███▎      | 3/9 [13:22<26:48, 268.01s/it]"
     ]
    },
    {
     "name": "stdout",
     "output_type": "stream",
     "text": [
      "Đã xử lý ./data/sample_tv360/video_chunk/chunk_3.mp4:\n",
      "  - Video không âm thanh: ./data/sample_tv360/video_raw/video_raw_3.mp4\n",
      "  - File âm thanh: ./data/sample_tv360/audio_raw/audio_raw_3.wav\n",
      "\n",
      "Đang xử lý ./data/sample_tv360/video_chunk/chunk_4.mp4...\n"
     ]
    },
    {
     "name": "stderr",
     "output_type": "stream",
     "text": [
      " 44%|████▍     | 4/9 [17:40<22:00, 264.06s/it]"
     ]
    },
    {
     "name": "stdout",
     "output_type": "stream",
     "text": [
      "Đã xử lý ./data/sample_tv360/video_chunk/chunk_4.mp4:\n",
      "  - Video không âm thanh: ./data/sample_tv360/video_raw/video_raw_4.mp4\n",
      "  - File âm thanh: ./data/sample_tv360/audio_raw/audio_raw_4.wav\n",
      "\n",
      "Đang xử lý ./data/sample_tv360/video_chunk/chunk_5.mp4...\n"
     ]
    },
    {
     "name": "stderr",
     "output_type": "stream",
     "text": [
      " 56%|█████▌    | 5/9 [22:00<17:29, 262.36s/it]"
     ]
    },
    {
     "name": "stdout",
     "output_type": "stream",
     "text": [
      "Đã xử lý ./data/sample_tv360/video_chunk/chunk_5.mp4:\n",
      "  - Video không âm thanh: ./data/sample_tv360/video_raw/video_raw_5.mp4\n",
      "  - File âm thanh: ./data/sample_tv360/audio_raw/audio_raw_5.wav\n",
      "\n",
      "Đang xử lý ./data/sample_tv360/video_chunk/chunk_6.mp4...\n"
     ]
    },
    {
     "name": "stderr",
     "output_type": "stream",
     "text": [
      " 67%|██████▋   | 6/9 [26:27<13:11, 263.90s/it]"
     ]
    },
    {
     "name": "stdout",
     "output_type": "stream",
     "text": [
      "Đã xử lý ./data/sample_tv360/video_chunk/chunk_6.mp4:\n",
      "  - Video không âm thanh: ./data/sample_tv360/video_raw/video_raw_6.mp4\n",
      "  - File âm thanh: ./data/sample_tv360/audio_raw/audio_raw_6.wav\n",
      "\n",
      "Đang xử lý ./data/sample_tv360/video_chunk/chunk_7.mp4...\n"
     ]
    },
    {
     "name": "stderr",
     "output_type": "stream",
     "text": [
      " 78%|███████▊  | 7/9 [30:59<08:53, 266.52s/it]"
     ]
    },
    {
     "name": "stdout",
     "output_type": "stream",
     "text": [
      "Đã xử lý ./data/sample_tv360/video_chunk/chunk_7.mp4:\n",
      "  - Video không âm thanh: ./data/sample_tv360/video_raw/video_raw_7.mp4\n",
      "  - File âm thanh: ./data/sample_tv360/audio_raw/audio_raw_7.wav\n",
      "\n",
      "Đang xử lý ./data/sample_tv360/video_chunk/chunk_8.mp4...\n"
     ]
    },
    {
     "name": "stderr",
     "output_type": "stream",
     "text": [
      " 89%|████████▉ | 8/9 [35:30<04:27, 267.99s/it]"
     ]
    },
    {
     "name": "stdout",
     "output_type": "stream",
     "text": [
      "Đã xử lý ./data/sample_tv360/video_chunk/chunk_8.mp4:\n",
      "  - Video không âm thanh: ./data/sample_tv360/video_raw/video_raw_8.mp4\n",
      "  - File âm thanh: ./data/sample_tv360/audio_raw/audio_raw_8.wav\n",
      "\n",
      "Đang xử lý ./data/sample_tv360/video_chunk/chunk_9.mp4...\n"
     ]
    },
    {
     "name": "stderr",
     "output_type": "stream",
     "text": [
      "100%|██████████| 9/9 [39:48<00:00, 265.35s/it]"
     ]
    },
    {
     "name": "stdout",
     "output_type": "stream",
     "text": [
      "Đã xử lý ./data/sample_tv360/video_chunk/chunk_9.mp4:\n",
      "  - Video không âm thanh: ./data/sample_tv360/video_raw/video_raw_9.mp4\n",
      "  - File âm thanh: ./data/sample_tv360/audio_raw/audio_raw_9.wav\n",
      "\n",
      "Hoàn thành xử lý tất cả các chunk vào audio và video raw\n"
     ]
    },
    {
     "name": "stderr",
     "output_type": "stream",
     "text": [
      "\n"
     ]
    }
   ],
   "source": [
    "import subprocess\n",
    "from tqdm import tqdm\n",
    "import os\n",
    "import math\n",
    "\n",
    "def process_video(input_file: str, video_type: str = 'raw', which_chunk: int = 1, fps = 30):\n",
    "    assert video_type in ['raw', 'processed']\n",
    "    # Tên file đầu ra\n",
    "    root_dir = './data/sample_tv360'\n",
    "    \n",
    "    if os.path.exists(root_dir):\n",
    "        if not os.path.exists(os.path.join(root_dir, 'video_raw')):\n",
    "            os.makedirs(os.path.join(root_dir, 'video_raw'))\n",
    "        if not os.path.exists(os.path.join(root_dir, 'audio_raw')):\n",
    "            os.makedirs(os.path.join(root_dir, 'audio_raw'))\n",
    "            \n",
    "    raw_video_dir = os.path.join(root_dir, 'video_raw')\n",
    "    raw_audio_dir = os.path.join(root_dir, 'audio_raw')\n",
    "    raw_video = f\"{raw_video_dir}/video_{video_type}_{which_chunk}.mp4\"\n",
    "    raw_audio = f\"{raw_audio_dir}/audio_{video_type}_{which_chunk}.wav\"\n",
    "    # Xử lý video và audio cùng lúc\n",
    "    video_cmd = [\n",
    "        'ffmpeg',\n",
    "        '-i', input_file,\n",
    "        '-y', \n",
    "        '-an', \n",
    "        '-r', f'{fps}',\n",
    "        '-c:v', 'libopenh264',\n",
    "        raw_video,\n",
    "    ]\n",
    "    audio_cmd = [\n",
    "        'ffmpeg',\n",
    "        '-i', input_file,\n",
    "        '-y',\n",
    "        '-vn',\n",
    "        '-acodec', 'pcm_s16le',\n",
    "        '-ar', '44100',\n",
    "        '-ac','2',\n",
    "        raw_audio\n",
    "    ]\n",
    "    \n",
    "    subprocess.run(video_cmd, stdout=subprocess.DEVNULL, stderr=subprocess.DEVNULL)\n",
    "    subprocess.run(audio_cmd, stdout=subprocess.DEVNULL, stderr=subprocess.DEVNULL)\n",
    "\n",
    "    print(f\"Đã xử lý {input_file}:\")\n",
    "    print(f\"  - Video không âm thanh: {raw_video}\")\n",
    "    print(f\"  - File âm thanh: {raw_audio}\")\n",
    "\n",
    "# Xử lý tất cả các chunk video\n",
    "number_of_chunks = math.ceil(get_video_duration(\"sample_tv360.mp4\")/get_video_duration(\"sample_tv360_highlight.mp4\"))\n",
    "fps = get_video_fps(\"sample_tv360.mp4\")\n",
    "for i in tqdm(range(1, number_of_chunks +1)):  # Giả sử có 10 chunk từ 1 đến n\n",
    "    input_file = f'./data/sample_tv360/video_chunk/chunk_{i}.mp4'\n",
    "    if os.path.exists(input_file):\n",
    "        print(f\"\\nĐang xử lý {input_file}...\")\n",
    "        process_video(input_file, video_type =  'raw', which_chunk = i, fps = fps)\n",
    "    else:\n",
    "        print(f\"Không tìm thấy file {input_file}\")\n",
    "\n",
    "print(\"\\nHoàn thành xử lý tất cả các chunk vào audio và video raw\")\n"
   ]
  }
 ],
 "metadata": {
  "kernelspec": {
   "display_name": "Python 3",
   "language": "python",
   "name": "python3"
  },
  "language_info": {
   "codemirror_mode": {
    "name": "ipython",
    "version": 3
   },
   "file_extension": ".py",
   "mimetype": "text/x-python",
   "name": "python",
   "nbconvert_exporter": "python",
   "pygments_lexer": "ipython3",
   "version": "3.10.15"
  }
 },
 "nbformat": 4,
 "nbformat_minor": 2
}
