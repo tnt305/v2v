{
 "cells": [
  {
   "cell_type": "code",
   "execution_count": 1,
   "metadata": {},
   "outputs": [],
   "source": []
  },
  {
   "cell_type": "code",
   "execution_count": 1,
   "metadata": {},
   "outputs": [
    {
     "name": "stderr",
     "output_type": "stream",
     "text": [
      "VideoManager is deprecated and will be removed.\n"
     ]
    },
    {
     "name": "stdout",
     "output_type": "stream",
     "text": [
      "Detected scenes:\n",
      "Scene 1: Start <class 'str'> - End 00:00:03.000\n",
      "Scene 2: Start <class 'str'> - End 00:00:12.800\n",
      "Scene 3: Start <class 'str'> - End 00:00:20.033\n",
      "Scene 4: Start <class 'str'> - End 00:00:32.200\n",
      "Scene 5: Start <class 'str'> - End 00:00:37.833\n",
      "Scene 6: Start <class 'str'> - End 00:00:58.033\n",
      "Scene 7: Start <class 'str'> - End 00:01:16.700\n"
     ]
    }
   ],
   "source": [
    "from scenedetect import VideoManager, SceneManager\n",
    "from scenedetect.detectors import ContentDetector\n",
    "\n",
    "video_path = './data/sample_tv360/video_chunk/chunk_1.mp4'\n",
    "video_manager = VideoManager([video_path])\n",
    "scene_manager = SceneManager()\n",
    "scene_manager.add_detector(ContentDetector())\n",
    "\n",
    "# Đặt downscale_factor tại đây\n",
    "video_manager.set_downscale_factor(2)\n",
    "\n",
    "# Khởi chạy\n",
    "video_manager.start()\n",
    "scene_manager.detect_scenes(frame_source=video_manager)\n",
    "\n",
    "# In danh sách các cảnh\n",
    "scene_list = scene_manager.get_scene_list()\n",
    "print(\"Detected scenes:\")\n",
    "for i, scene in enumerate(scene_list):\n",
    "    print(f\"Scene {i+1}: Start {type(scene[0].get_timecode())} - End {scene[1].get_timecode()}\")\n"
   ]
  },
  {
   "cell_type": "code",
   "execution_count": 2,
   "metadata": {},
   "outputs": [
    {
     "name": "stdout",
     "output_type": "stream",
     "text": [
      "Scene 1: Start - 00:00:00.000, End - 00:00:01.000\n",
      "Scene 2: Start - 00:00:01.000, End - 00:00:03.000\n",
      "Scene 3: Start - 00:00:03.000, End - 00:00:20.033\n",
      "Scene 4: Start - 00:00:20.033, End - 00:00:25.633\n",
      "Scene 5: Start - 00:00:25.633, End - 00:00:32.200\n",
      "Scene 6: Start - 00:00:32.200, End - 00:00:37.833\n",
      "Scene 7: Start - 00:00:37.833, End - 00:00:44.800\n",
      "Scene 8: Start - 00:00:44.800, End - 00:00:58.033\n",
      "Scene 9: Start - 00:00:58.033, End - 00:01:05.533\n",
      "Scene 10: Start - 00:01:05.533, End - 00:01:16.700\n"
     ]
    }
   ],
   "source": [
    "from scenedetect import detect, AdaptiveDetector, split_video_ffmpeg\n",
    "\n",
    "# Phát hiện cảnh\n",
    "scene_list = detect('./data/sample_tv360/video_chunk/chunk_1.mp4', AdaptiveDetector())\n",
    "\n",
    "# In danh sách cảnh\n",
    "for i, scene in enumerate(scene_list):\n",
    "    start_time = scene[0].get_timecode()\n",
    "    end_time = scene[1].get_timecode()\n",
    "    print(f\"Scene {i+1}: Start - {start_time}, End - {end_time}\")\n",
    "\n",
    "# Chia nhỏ video theo danh sách cảnh (tùy chọn)\n",
    "# split_video_ffmpeg('./data/sample_tv360/video_chunk/chunk_1.mp4', scene_list)\n"
   ]
  },
  {
   "cell_type": "code",
   "execution_count": 3,
   "metadata": {},
   "outputs": [],
   "source": [
    "import sys\n",
    "sys.setrecursionlimit(3000)\n"
   ]
  },
  {
   "cell_type": "code",
   "execution_count": 5,
   "metadata": {},
   "outputs": [
    {
     "name": "stdout",
     "output_type": "stream",
     "text": [
      "[PySceneDetect] PySceneDetect 0.6.4\n",
      "Usage: scenedetect list-scenes [OPTIONS]\n",
      "Try 'scenedetect list-scenes -h' for help.\n",
      "\n",
      "Error: No such option: -d\n"
     ]
    }
   ],
   "source": [
    "# !scenedetect -i './data/sample_tv360/video_chunk/chunk_1.mp4' detect-content list-scenes -d 3"
   ]
  },
  {
   "cell_type": "code",
   "execution_count": 14,
   "metadata": {},
   "outputs": [
    {
     "name": "stdout",
     "output_type": "stream",
     "text": [
      "58.133\n"
     ]
    }
   ],
   "source": [
    "from datetime import timedelta\n",
    "\n",
    "time_str = \"00:00:58.133\"\n",
    "hours, minutes, seconds = time_str.split(\":\")\n",
    "seconds, milliseconds = seconds.split(\".\")\n",
    "\n",
    "# Tạo đối tượng timedelta\n",
    "time_delta = timedelta(hours=int(hours), minutes=int(minutes), seconds=int(seconds), milliseconds=int(milliseconds))\n",
    "print(time_delta.total_seconds())  # In ra tổng số giây\n"
   ]
  }
 ],
 "metadata": {
  "kernelspec": {
   "display_name": "Python 3",
   "language": "python",
   "name": "python3"
  },
  "language_info": {
   "codemirror_mode": {
    "name": "ipython",
    "version": 3
   },
   "file_extension": ".py",
   "mimetype": "text/x-python",
   "name": "python",
   "nbconvert_exporter": "python",
   "pygments_lexer": "ipython3",
   "version": "3.10.15"
  }
 },
 "nbformat": 4,
 "nbformat_minor": 2
}
