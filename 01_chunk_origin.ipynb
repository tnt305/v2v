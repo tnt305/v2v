{
 "cells": [
  {
   "cell_type": "code",
   "execution_count": 1,
   "metadata": {},
   "outputs": [
    {
     "name": "stdout",
     "output_type": "stream",
     "text": [
      "Created data/sample_tv360/video_chunk/chunk_1.mp4 with start time 0 and end time 81\n",
      "Created data/sample_tv360/video_chunk/chunk_2.mp4 with start time 71 and end time 152\n",
      "Created data/sample_tv360/video_chunk/chunk_3.mp4 with start time 147 and end time 228\n",
      "Created data/sample_tv360/video_chunk/chunk_4.mp4 with start time 223 and end time 304\n",
      "Created data/sample_tv360/video_chunk/chunk_5.mp4 with start time 299 and end time 380\n",
      "Created data/sample_tv360/video_chunk/chunk_6.mp4 with start time 375 and end time 456\n",
      "Created data/sample_tv360/video_chunk/chunk_7.mp4 with start time 451 and end time 532\n",
      "Created data/sample_tv360/video_chunk/chunk_8.mp4 with start time 527 and end time 608\n",
      "Created data/sample_tv360/video_chunk/chunk_9.mp4 with start time 603 and end time 684\n",
      "Created data/sample_tv360/video_chunk/chunk_10.mp4 with start time 679 and end time 760\n"
     ]
    }
   ],
   "source": [
    "import subprocess\n",
    "import json\n",
    "import os\n",
    "import math\n",
    "import csv\n",
    "\n",
    "def get_video_duration(input_file):\n",
    "    cmd = ['ffprobe', '-v', 'quiet', '-print_format', 'json', '-show_format', '-show_streams', input_file]\n",
    "    result = subprocess.run(cmd, capture_output=True, text=True)\n",
    "    data = json.loads(result.stdout)\n",
    "    return float(data['format']['duration'])\n",
    "\n",
    "def split_video(input_file, save_dir, chunk_path='video_chunk', num_chunks=10, overlap=5):\n",
    "    duration = get_video_duration(input_file)\n",
    "    chunk_duration = math.floor((duration - overlap * (num_chunks - 1)) / num_chunks)\n",
    "    \n",
    "    if not os.path.exists(save_dir):\n",
    "        os.makedirs(save_dir)\n",
    "        \n",
    "    root_dir = input_file.rsplit(\".\", 1)[0]\n",
    "    save_path = os.path.join(save_dir, root_dir, chunk_path)\n",
    "    os.makedirs(save_path, exist_ok=True)\n",
    "    \n",
    "    csv_file_path = os.path.join(save_path, f\"{chunk_path}_{num_chunks}_scenes.csv\")\n",
    "    \n",
    "    with open(csv_file_path, mode = 'w', newline = '') as csv_file:\n",
    "        csv_writer = csv.writer(csv_file)\n",
    "        csv_writer.writerow(['Video Segment', 'data_start', 'data_end'])\n",
    "        \n",
    "        for i in range(num_chunks):\n",
    "            start_time = i * chunk_duration if i == 0 else i * chunk_duration - overlap\n",
    "            end_time = start_time + chunk_duration + (overlap if i != 0 else overlap)\n",
    "            output_file = f'{save_path}/chunk_{i+1}.mp4'\n",
    "            \n",
    "            cmd = [\n",
    "                'ffmpeg',\n",
    "                '-y',\n",
    "                '-i', input_file,\n",
    "                '-ss', str(math.floor(start_time)),\n",
    "                '-to', str(math.floor(end_time)),\n",
    "                '-r', '30',\n",
    "                '-c', 'copy',\n",
    "                output_file\n",
    "            ]\n",
    "            \n",
    "            subprocess.run(cmd, stdout=subprocess.DEVNULL, stderr=subprocess.DEVNULL)\n",
    "            print(f'Created {output_file} with start time {math.floor(start_time)} and end time {math.floor(end_time)}')\n",
    "            csv_writer.writerow([i, math.floor(start_time), math.floor(start_time) + 27])\n",
    "# Usage\n",
    "input_file = 'sample_tv360.mp4'\n",
    "save_dir = 'data'\n",
    "split_video(input_file, save_dir)\n"
   ]
  },
  {
   "cell_type": "code",
   "execution_count": 2,
   "metadata": {},
   "outputs": [
    {
     "name": "stdout",
     "output_type": "stream",
     "text": [
      "Video length: 81.000 seconds\n"
     ]
    }
   ],
   "source": [
    "import subprocess\n",
    "import json\n",
    "\n",
    "# Đường dẫn đến video\n",
    "video_path = '/home/thiendc/projects/video_summarization/data/sample_tv360/video_raw/video_raw_1.mp4'\n",
    "\n",
    "# Lệnh ffprobe để lấy thông tin video dưới dạng JSON\n",
    "ffprobe_cmd = [\n",
    "    'ffprobe',\n",
    "    '-v', 'quiet',\n",
    "    '-print_format', 'json',\n",
    "    '-show_format',\n",
    "    '-show_streams',\n",
    "    video_path\n",
    "]\n",
    "\n",
    "# Thực thi lệnh\n",
    "result = subprocess.run(ffprobe_cmd, capture_output=True, text=True)\n",
    "info = json.loads(result.stdout)\n",
    "\n",
    "# Lấy thời lượng video\n",
    "duration = float(info['format']['duration'])\n",
    "print(f\"Video length: {duration:.3f} seconds\")\n"
   ]
  }
 ],
 "metadata": {
  "kernelspec": {
   "display_name": "Python 3",
   "language": "python",
   "name": "python3"
  },
  "language_info": {
   "codemirror_mode": {
    "name": "ipython",
    "version": 3
   },
   "file_extension": ".py",
   "mimetype": "text/x-python",
   "name": "python",
   "nbconvert_exporter": "python",
   "pygments_lexer": "ipython3",
   "version": "3.10.15"
  }
 },
 "nbformat": 4,
 "nbformat_minor": 2
}
