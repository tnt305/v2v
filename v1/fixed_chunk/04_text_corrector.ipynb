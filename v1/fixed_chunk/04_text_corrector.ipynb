{
 "cells": [
  {
   "cell_type": "code",
   "execution_count": 2,
   "metadata": {},
   "outputs": [],
   "source": [
    "from transformers import pipeline\n",
    "corrector = pipeline(\"text2text-generation\", model=\"bmd1905/vietnamese-correction\", device = 'cuda')"
   ]
  },
  {
   "cell_type": "code",
   "execution_count": 3,
   "metadata": {},
   "outputs": [
    {
     "name": "stdout",
     "output_type": "stream",
     "text": [
      "- Công việc kinh doanh thì rất khó khăn nên tôi quyết định chuyển sang nghề khác.\n",
      "- Tôi đang là sinh viên hai ở trường đại học khoa học tự nhiên, trong năm kế tiếp, tôi sẽ chọn chuyên ngành về trí tuệ nhân tạo.\n",
      "- Tôi đang học AI ở trung tâm AI Việt Nam.\n",
      "- Nhưng sức huỷ diệt của cơn bão mitch vẫn chưa thấm vào đâu so với thảm hoạ tại Bangladesh năm 1970 .\n",
      "- Lần này anh Phương quyết xếp hàng mua bằng được 1 chiếc.\n",
      "- Một số chuyên gia tài chính ngân hàng của Việt Nam cũng chung quan điểm này.\n",
      "- Các số liệu cho thấy ngươi dân Việt Nam đang sống trong 1 cuôc sóng không được nhu mong đọc.\n",
      "- Niên kinh té thé giới đang đúng trương, nguyên cơ của một cuộc suy thoái.\n",
      "- Không phai tất ca, nhưng giờ chúng ta thấy điều là sự thật.\n",
      "- Chính phủ luôn cố găng hết sức để nâng cao chất lượng nền giáo dục của nước nhà.\n",
      "- Nền kinh tế thế giới đang đứng trước nguy cơ của một cuộc suy thoái.\n",
      "- Kinh tế Việt Nam đang đứng trước 1 thời kỳ đổi mới, chưa từng có tiền lệ trong lịch sử.\n"
     ]
    }
   ],
   "source": [
    "MAX_LENGTH = 512\n",
    "\n",
    "# Define the text samples\n",
    "texts = [\n",
    "    \"côn viec kin doanh thì rất kho khan nên toi quyết dinh chuyển sang nghề khac  \",\n",
    "    \"toi dang là sinh diên nam hai ở truong đạ hoc khoa jọc tự nhiên , trogn năm ke tiep toi sẽ chọn chuyen nganh về trí tue nhana tạo\",\n",
    "    \"Tôi  đang học AI ở trun tam AI viet nam  \",\n",
    "    \"Nhưng sức huỷ divt của cơn bão mitch vẫn chưa thấm vào đâu lsovớithảm hoạ tại Bangladesh ăm 1970 \",\n",
    "    \"Lần này anh Phươngqyết xếp hàng mua bằng được 1 chiếc\",\n",
    "    \"một số chuyen gia tài chính ngâSn hànG của Việt Nam cũng chung quan điểmnày\",\n",
    "    \"Cac so liệu cho thay ngươi dân viet nam đang sống trong 1 cuôc sóng không duojc nhu mong đọi\",\n",
    "    \"Nefn kinh té thé giới đang đúng trươc nguyen co của mọt cuoc suy thoai\",\n",
    "    \"Khong phai tất ca nhưng gi chung ta thấy dideu là sụ that\",\n",
    "    \"chinh phủ luôn cố găng het suc để naggna cao chat luong nền giáo duc =cua nuoc nhà\",\n",
    "    \"nèn kinh te thé giới đang đứng trươc nguy co của mọt cuoc suy thoai\",\n",
    "    \"kinh tế viet nam dang dứng truoc 1 thoi ky đổi mơi chưa tung có tienf lệ trong lịch sử\"\n",
    "]\n",
    "\n",
    "# Batch prediction\n",
    "predictions = corrector(texts, max_length=MAX_LENGTH)\n",
    "\n",
    "# Print predictions\n",
    "for text, pred in zip(texts, predictions):\n",
    "    print(\"- \" + pred['generated_text'])"
   ]
  }
 ],
 "metadata": {
  "kernelspec": {
   "display_name": "Python 3",
   "language": "python",
   "name": "python3"
  },
  "language_info": {
   "codemirror_mode": {
    "name": "ipython",
    "version": 3
   },
   "file_extension": ".py",
   "mimetype": "text/x-python",
   "name": "python",
   "nbconvert_exporter": "python",
   "pygments_lexer": "ipython3",
   "version": "3.10.15"
  }
 },
 "nbformat": 4,
 "nbformat_minor": 2
}
