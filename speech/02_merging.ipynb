{
 "cells": [
  {
   "cell_type": "code",
   "execution_count": 20,
   "metadata": {},
   "outputs": [
    {
     "name": "stderr",
     "output_type": "stream",
     "text": [
      " 10%|█         | 1/10 [00:01<00:09,  1.10s/it]"
     ]
    },
    {
     "name": "stdout",
     "output_type": "stream",
     "text": [
      "Merged ['video_based_audio_p_1.mp4', 'video_based_audio_p_2.mp4', 'video_based_audio_p_3.mp4', 'video_based_audio_p_4.mp4', 'video_based_audio_p_5.mp4', 'video_based_audio_p_6.mp4', 'video_based_audio_p_7.mp4', 'video_based_audio_p_8.mp4', 'video_based_audio_p_9.mp4', 'video_based_audio_p_10.mp4'] and ['audio_based_audio_p_1.wav', 'audio_based_audio_p_2.wav', 'audio_based_audio_p_3.wav', 'audio_based_audio_p_4.wav', 'audio_based_audio_p_5.wav', 'audio_based_audio_p_6.wav', 'audio_based_audio_p_7.wav', 'audio_based_audio_p_8.wav', 'audio_based_audio_p_9.wav', 'audio_based_audio_p_10.wav'] into ../data/sample_tv360/do_merge/merged_video_based_audio_p_1.mp4\n"
     ]
    },
    {
     "name": "stderr",
     "output_type": "stream",
     "text": [
      " 20%|██        | 2/10 [00:02<00:09,  1.16s/it]"
     ]
    },
    {
     "name": "stdout",
     "output_type": "stream",
     "text": [
      "Merged ['video_based_audio_p_1.mp4', 'video_based_audio_p_2.mp4', 'video_based_audio_p_3.mp4', 'video_based_audio_p_4.mp4', 'video_based_audio_p_5.mp4', 'video_based_audio_p_6.mp4', 'video_based_audio_p_7.mp4', 'video_based_audio_p_8.mp4', 'video_based_audio_p_9.mp4', 'video_based_audio_p_10.mp4'] and ['audio_based_audio_p_1.wav', 'audio_based_audio_p_2.wav', 'audio_based_audio_p_3.wav', 'audio_based_audio_p_4.wav', 'audio_based_audio_p_5.wav', 'audio_based_audio_p_6.wav', 'audio_based_audio_p_7.wav', 'audio_based_audio_p_8.wav', 'audio_based_audio_p_9.wav', 'audio_based_audio_p_10.wav'] into ../data/sample_tv360/do_merge/merged_video_based_audio_p_2.mp4\n"
     ]
    },
    {
     "name": "stderr",
     "output_type": "stream",
     "text": [
      " 30%|███       | 3/10 [00:03<00:08,  1.19s/it]"
     ]
    },
    {
     "name": "stdout",
     "output_type": "stream",
     "text": [
      "Merged ['video_based_audio_p_1.mp4', 'video_based_audio_p_2.mp4', 'video_based_audio_p_3.mp4', 'video_based_audio_p_4.mp4', 'video_based_audio_p_5.mp4', 'video_based_audio_p_6.mp4', 'video_based_audio_p_7.mp4', 'video_based_audio_p_8.mp4', 'video_based_audio_p_9.mp4', 'video_based_audio_p_10.mp4'] and ['audio_based_audio_p_1.wav', 'audio_based_audio_p_2.wav', 'audio_based_audio_p_3.wav', 'audio_based_audio_p_4.wav', 'audio_based_audio_p_5.wav', 'audio_based_audio_p_6.wav', 'audio_based_audio_p_7.wav', 'audio_based_audio_p_8.wav', 'audio_based_audio_p_9.wav', 'audio_based_audio_p_10.wav'] into ../data/sample_tv360/do_merge/merged_video_based_audio_p_3.mp4\n"
     ]
    },
    {
     "name": "stderr",
     "output_type": "stream",
     "text": [
      " 40%|████      | 4/10 [00:04<00:07,  1.17s/it]"
     ]
    },
    {
     "name": "stdout",
     "output_type": "stream",
     "text": [
      "Merged ['video_based_audio_p_1.mp4', 'video_based_audio_p_2.mp4', 'video_based_audio_p_3.mp4', 'video_based_audio_p_4.mp4', 'video_based_audio_p_5.mp4', 'video_based_audio_p_6.mp4', 'video_based_audio_p_7.mp4', 'video_based_audio_p_8.mp4', 'video_based_audio_p_9.mp4', 'video_based_audio_p_10.mp4'] and ['audio_based_audio_p_1.wav', 'audio_based_audio_p_2.wav', 'audio_based_audio_p_3.wav', 'audio_based_audio_p_4.wav', 'audio_based_audio_p_5.wav', 'audio_based_audio_p_6.wav', 'audio_based_audio_p_7.wav', 'audio_based_audio_p_8.wav', 'audio_based_audio_p_9.wav', 'audio_based_audio_p_10.wav'] into ../data/sample_tv360/do_merge/merged_video_based_audio_p_4.mp4\n"
     ]
    },
    {
     "name": "stderr",
     "output_type": "stream",
     "text": [
      " 50%|█████     | 5/10 [00:05<00:05,  1.11s/it]"
     ]
    },
    {
     "name": "stdout",
     "output_type": "stream",
     "text": [
      "Merged ['video_based_audio_p_1.mp4', 'video_based_audio_p_2.mp4', 'video_based_audio_p_3.mp4', 'video_based_audio_p_4.mp4', 'video_based_audio_p_5.mp4', 'video_based_audio_p_6.mp4', 'video_based_audio_p_7.mp4', 'video_based_audio_p_8.mp4', 'video_based_audio_p_9.mp4', 'video_based_audio_p_10.mp4'] and ['audio_based_audio_p_1.wav', 'audio_based_audio_p_2.wav', 'audio_based_audio_p_3.wav', 'audio_based_audio_p_4.wav', 'audio_based_audio_p_5.wav', 'audio_based_audio_p_6.wav', 'audio_based_audio_p_7.wav', 'audio_based_audio_p_8.wav', 'audio_based_audio_p_9.wav', 'audio_based_audio_p_10.wav'] into ../data/sample_tv360/do_merge/merged_video_based_audio_p_5.mp4\n"
     ]
    },
    {
     "name": "stderr",
     "output_type": "stream",
     "text": [
      " 60%|██████    | 6/10 [00:06<00:03,  1.00it/s]"
     ]
    },
    {
     "name": "stdout",
     "output_type": "stream",
     "text": [
      "Merged ['video_based_audio_p_1.mp4', 'video_based_audio_p_2.mp4', 'video_based_audio_p_3.mp4', 'video_based_audio_p_4.mp4', 'video_based_audio_p_5.mp4', 'video_based_audio_p_6.mp4', 'video_based_audio_p_7.mp4', 'video_based_audio_p_8.mp4', 'video_based_audio_p_9.mp4', 'video_based_audio_p_10.mp4'] and ['audio_based_audio_p_1.wav', 'audio_based_audio_p_2.wav', 'audio_based_audio_p_3.wav', 'audio_based_audio_p_4.wav', 'audio_based_audio_p_5.wav', 'audio_based_audio_p_6.wav', 'audio_based_audio_p_7.wav', 'audio_based_audio_p_8.wav', 'audio_based_audio_p_9.wav', 'audio_based_audio_p_10.wav'] into ../data/sample_tv360/do_merge/merged_video_based_audio_p_6.mp4\n"
     ]
    },
    {
     "name": "stderr",
     "output_type": "stream",
     "text": [
      " 70%|███████   | 7/10 [00:07<00:03,  1.03s/it]"
     ]
    },
    {
     "name": "stdout",
     "output_type": "stream",
     "text": [
      "Merged ['video_based_audio_p_1.mp4', 'video_based_audio_p_2.mp4', 'video_based_audio_p_3.mp4', 'video_based_audio_p_4.mp4', 'video_based_audio_p_5.mp4', 'video_based_audio_p_6.mp4', 'video_based_audio_p_7.mp4', 'video_based_audio_p_8.mp4', 'video_based_audio_p_9.mp4', 'video_based_audio_p_10.mp4'] and ['audio_based_audio_p_1.wav', 'audio_based_audio_p_2.wav', 'audio_based_audio_p_3.wav', 'audio_based_audio_p_4.wav', 'audio_based_audio_p_5.wav', 'audio_based_audio_p_6.wav', 'audio_based_audio_p_7.wav', 'audio_based_audio_p_8.wav', 'audio_based_audio_p_9.wav', 'audio_based_audio_p_10.wav'] into ../data/sample_tv360/do_merge/merged_video_based_audio_p_7.mp4\n"
     ]
    },
    {
     "name": "stderr",
     "output_type": "stream",
     "text": [
      " 80%|████████  | 8/10 [00:08<00:02,  1.03s/it]"
     ]
    },
    {
     "name": "stdout",
     "output_type": "stream",
     "text": [
      "Merged ['video_based_audio_p_1.mp4', 'video_based_audio_p_2.mp4', 'video_based_audio_p_3.mp4', 'video_based_audio_p_4.mp4', 'video_based_audio_p_5.mp4', 'video_based_audio_p_6.mp4', 'video_based_audio_p_7.mp4', 'video_based_audio_p_8.mp4', 'video_based_audio_p_9.mp4', 'video_based_audio_p_10.mp4'] and ['audio_based_audio_p_1.wav', 'audio_based_audio_p_2.wav', 'audio_based_audio_p_3.wav', 'audio_based_audio_p_4.wav', 'audio_based_audio_p_5.wav', 'audio_based_audio_p_6.wav', 'audio_based_audio_p_7.wav', 'audio_based_audio_p_8.wav', 'audio_based_audio_p_9.wav', 'audio_based_audio_p_10.wav'] into ../data/sample_tv360/do_merge/merged_video_based_audio_p_8.mp4\n"
     ]
    },
    {
     "name": "stderr",
     "output_type": "stream",
     "text": [
      " 90%|█████████ | 9/10 [00:09<00:00,  1.09it/s]"
     ]
    },
    {
     "name": "stdout",
     "output_type": "stream",
     "text": [
      "Merged ['video_based_audio_p_1.mp4', 'video_based_audio_p_2.mp4', 'video_based_audio_p_3.mp4', 'video_based_audio_p_4.mp4', 'video_based_audio_p_5.mp4', 'video_based_audio_p_6.mp4', 'video_based_audio_p_7.mp4', 'video_based_audio_p_8.mp4', 'video_based_audio_p_9.mp4', 'video_based_audio_p_10.mp4'] and ['audio_based_audio_p_1.wav', 'audio_based_audio_p_2.wav', 'audio_based_audio_p_3.wav', 'audio_based_audio_p_4.wav', 'audio_based_audio_p_5.wav', 'audio_based_audio_p_6.wav', 'audio_based_audio_p_7.wav', 'audio_based_audio_p_8.wav', 'audio_based_audio_p_9.wav', 'audio_based_audio_p_10.wav'] into ../data/sample_tv360/do_merge/merged_video_based_audio_p_9.mp4\n"
     ]
    },
    {
     "name": "stderr",
     "output_type": "stream",
     "text": [
      "100%|██████████| 10/10 [00:10<00:00,  1.07s/it]"
     ]
    },
    {
     "name": "stdout",
     "output_type": "stream",
     "text": [
      "Merged ['video_based_audio_p_1.mp4', 'video_based_audio_p_2.mp4', 'video_based_audio_p_3.mp4', 'video_based_audio_p_4.mp4', 'video_based_audio_p_5.mp4', 'video_based_audio_p_6.mp4', 'video_based_audio_p_7.mp4', 'video_based_audio_p_8.mp4', 'video_based_audio_p_9.mp4', 'video_based_audio_p_10.mp4'] and ['audio_based_audio_p_1.wav', 'audio_based_audio_p_2.wav', 'audio_based_audio_p_3.wav', 'audio_based_audio_p_4.wav', 'audio_based_audio_p_5.wav', 'audio_based_audio_p_6.wav', 'audio_based_audio_p_7.wav', 'audio_based_audio_p_8.wav', 'audio_based_audio_p_9.wav', 'audio_based_audio_p_10.wav'] into ../data/sample_tv360/do_merge/merged_video_based_audio_p_10.mp4\n"
     ]
    },
    {
     "name": "stderr",
     "output_type": "stream",
     "text": [
      "\n"
     ]
    }
   ],
   "source": [
    "import os\n",
    "from tqdm import tqdm\n",
    "import subprocess\n",
    "\n",
    "audio_dir = \"../data/sample_tv360/audio_processed\"\n",
    "video_dir = \"../data/sample_tv360/video_processed\"\n",
    "output_dir = \"../data/sample_tv360/do_merge\"\n",
    "audio_file = sorted([file for file in os.listdir(\"../data/sample_tv360/audio_processed\") if file.startswith(\"audio_based\")], key=lambda x: int(x.split(\"_\")[-1].split(\".\")[0]))\n",
    "video_file = sorted([file for file in os.listdir(\"../data/sample_tv360/video_processed\") if file.startswith(\"video_based\")], key=lambda x: int(x.split(\"_\")[-1].split(\".\")[0]))\n",
    "\n",
    "for audio, video in tqdm(zip(audio_file, video_file), total=len(audio_file)):\n",
    "    audio_path = os.path.join(\"../data/sample_tv360/audio_processed\", audio)\n",
    "    video_path = os.path.join(\"../data/sample_tv360/video_processed\", video)\n",
    "    output_path = os.path.join(output_dir, f'merged_{video.split(\".\")[0]}.mp4')\n",
    "    \n",
    "    cmd = [\n",
    "        'ffmpeg',\n",
    "        '-y',  # Ghi đè file nếu đã tồn tại\n",
    "        '-i', video_path,\n",
    "        '-i', audio_path,\n",
    "        '-c:v', 'copy',  # Sao chép codec video gốc\n",
    "        '-c:a', 'aac',   # Chuyển mã âm thanh sang aac để tương thích\n",
    "        '-r', '30',\n",
    "        '-strict', 'experimental',\n",
    "        output_path\n",
    "    ]\n",
    "    subprocess.run(cmd, stdout=subprocess.DEVNULL, stderr=subprocess.DEVNULL)\n",
    "    print(f'Merged {video_file} and {audio_file} into {output_path}')\n"
   ]
  },
  {
   "cell_type": "code",
   "execution_count": 21,
   "metadata": {},
   "outputs": [
    {
     "name": "stdout",
     "output_type": "stream",
     "text": [
      "Running ffmpeg to concatenate videos...\n",
      "\n",
      "All videos have been successfully concatenated into ../data/sample_tv360/final/complete_video_based_audio.mp4\n"
     ]
    }
   ],
   "source": [
    "import os\n",
    "import subprocess\n",
    "from tqdm import tqdm\n",
    "\n",
    "# Đường dẫn đến thư mục chứa các video cần nối\n",
    "final_dir = '../data/sample_tv360/do_merge'\n",
    "\n",
    "# Tạo thư mục output nếu chưa tồn tại\n",
    "final_output_dir = '../data/sample_tv360/final'\n",
    "if not os.path.exists(final_output_dir):\n",
    "    os.makedirs(final_output_dir)\n",
    "\n",
    "# Đường dẫn đến video sau khi nối\n",
    "output_video = os.path.join(final_output_dir, 'complete_video_based_audio.mp4')\n",
    "file_list_path = os.path.join(final_output_dir, 'merges_based_audio.txt')\n",
    "\n",
    "# Tạo file danh sách các video để nối với tqdm\n",
    "with open(file_list_path, 'w') as f:\n",
    "    for video_file in sorted([file for file in os.listdir(final_dir) if \"based_audio\" in file], key=lambda x: int(x.split('_')[-1].split('.')[0])):\n",
    "        file_path = os.path.join(final_dir, video_file)\n",
    "        # Thêm đường dẫn chính xác vào file_list_path\n",
    "        f.write(f\"file '{os.path.abspath(file_path)}'\\n\")\n",
    "\n",
    "# # Kiểm tra nội dung file_list.txt\n",
    "# print(\"\\nList of files to be concatenated:\")\n",
    "# with open(file_list_path, 'r') as f:\n",
    "#     print(f.read())\n",
    "\n",
    "# Lệnh ffmpeg để nối video, chuyển hướng stdout và stderr để ẩn thông báo từ ffmpeg\n",
    "concat_cmd = [\n",
    "    'ffmpeg',\n",
    "    '-y',\n",
    "    '-f', 'concat',\n",
    "    '-safe', '0',\n",
    "    '-i', file_list_path,\n",
    "    '-c:v', 'libopenh264',  # Mã hóa lại video với libopenh264\n",
    "    '-c:a', 'aac',          # Mã hóa lại audio với aac\n",
    "    '-strict', 'experimental',\n",
    "    output_video\n",
    "]\n",
    "\n",
    "# Chạy lệnh nối video và tắt đầu ra của ffmpeg\n",
    "print(\"Running ffmpeg to concatenate videos...\")\n",
    "subprocess.run(concat_cmd, stdout=subprocess.DEVNULL, stderr=subprocess.DEVNULL)\n",
    "\n",
    "# Kiểm tra xem file output có được tạo thành công không\n",
    "if os.path.exists(output_video):\n",
    "    print(f\"\\nAll videos have been successfully concatenated into {output_video}\")\n",
    "else:\n",
    "    print(\"\\nError: The concatenation process failed. Please check the ffmpeg output for details.\")\n"
   ]
  }
 ],
 "metadata": {
  "kernelspec": {
   "display_name": "Python 3",
   "language": "python",
   "name": "python3"
  },
  "language_info": {
   "codemirror_mode": {
    "name": "ipython",
    "version": 3
   },
   "file_extension": ".py",
   "mimetype": "text/x-python",
   "name": "python",
   "nbconvert_exporter": "python",
   "pygments_lexer": "ipython3",
   "version": "3.10.15"
  }
 },
 "nbformat": 4,
 "nbformat_minor": 2
}
