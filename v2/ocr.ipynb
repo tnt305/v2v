{
 "cells": [
  {
   "cell_type": "code",
   "execution_count": 1,
   "metadata": {},
   "outputs": [],
   "source": [
    "from ultralytics import YOLO\n",
    "import cv2\n",
    "import numpy as np\n",
    "import pytesseract\n",
    "from PIL import Image\n",
    "\n",
    "class TextDetectionOCR:\n",
    "    def __init__(self, yolo_model_path):\n",
    "        \"\"\"\n",
    "        Khởi tạo mô hình với đường dẫn đến file weights của YOLO\n",
    "        \"\"\"\n",
    "        # Tải mô hình YOLO\n",
    "        self.model = YOLO(yolo_model_path)\n",
    "        \n",
    "        # Cấu hình các tham số\n",
    "        self.conf_threshold = 0.25\n",
    "        self.iou_threshold = 0.45\n",
    "        \n",
    "    def preprocess_image(self, image):\n",
    "        \"\"\"\n",
    "        Tiền xử lý ảnh đầu vào\n",
    "        \"\"\"\n",
    "        # Chuyển sang ảnh xám\n",
    "        gray = cv2.cvtColor(image, cv2.COLOR_BGR2GRAY)\n",
    "        \n",
    "        # Khử nhiễu\n",
    "        denoised = cv2.fastNlMeansDenoising(gray)\n",
    "        \n",
    "        # Tăng độ tương phản\n",
    "        clahe = cv2.createCLAHE(clipLimit=2.0, tileGridSize=(8,8))\n",
    "        contrast = clahe.apply(denoised)\n",
    "        \n",
    "        return contrast\n",
    "\n",
    "    def detect_text_regions(self, image):\n",
    "        \"\"\"\n",
    "        Sử dụng YOLO để phát hiện vùng chứa text\n",
    "        \"\"\"\n",
    "        # Thực hiện dự đoán với YOLO\n",
    "        results = self.model(image, conf=self.conf_threshold, iou=self.iou_threshold)\n",
    "        \n",
    "        # Lấy các bounding box\n",
    "        boxes = []\n",
    "        for result in results:\n",
    "            boxes.extend(result.boxes.xyxy.cpu().numpy())\n",
    "            \n",
    "        return np.array(boxes)\n",
    "\n",
    "    def extract_text_from_region(self, image, box, lang='vie'):\n",
    "        \"\"\"\n",
    "        Trích xuất text từ một vùng ảnh cụ thể\n",
    "        \"\"\"\n",
    "        # Cắt vùng ảnh theo bounding box\n",
    "        x1, y1, x2, y2 = map(int, box)\n",
    "        region = image[y1:y2, x1:x2]\n",
    "        \n",
    "        # Tiền xử lý vùng ảnh\n",
    "        processed_region = self.preprocess_image(region)\n",
    "        \n",
    "        # Chuyển sang định dạng PIL\n",
    "        pil_image = Image.fromarray(processed_region)\n",
    "        \n",
    "        # Trích xuất text\n",
    "        text = pytesseract.image_to_string(pil_image, lang=lang)\n",
    "        \n",
    "        return text.strip()\n",
    "\n",
    "    def process_image(self, image_path, lang='vie', visualize=False):\n",
    "        \"\"\"\n",
    "        Xử lý ảnh và trích xuất text từ tất cả các vùng được phát hiện\n",
    "        \"\"\"\n",
    "        # Đọc ảnh\n",
    "        image = cv2.imread(image_path)\n",
    "        original = image.copy()\n",
    "        \n",
    "        # Phát hiện vùng text\n",
    "        boxes = self.detect_text_regions(image)\n",
    "        \n",
    "        results = []\n",
    "        # Xử lý từng vùng\n",
    "        for box in boxes:\n",
    "            text = self.extract_text_from_region(image, box, lang)\n",
    "            if text:\n",
    "                results.append({\n",
    "                    'text': text,\n",
    "                    'box': box.tolist()\n",
    "                })\n",
    "                \n",
    "        # Vẽ kết quả nếu yêu cầu\n",
    "        if visualize:\n",
    "            for result in results:\n",
    "                box = result['box']\n",
    "                cv2.rectangle(original, \n",
    "                            (int(box[0]), int(box[1])), \n",
    "                            (int(box[2]), int(box[3])), \n",
    "                            (0, 255, 0), 2)\n",
    "                cv2.putText(original, \n",
    "                           result['text'][:20] + \"...\", \n",
    "                           (int(box[0]), int(box[1] - 10)),\n",
    "                           cv2.FONT_HERSHEY_SIMPLEX, 0.5, (0, 255, 0), 2)\n",
    "            \n",
    "            return results, original\n",
    "            \n",
    "        return results\n"
   ]
  },
  {
   "cell_type": "code",
   "execution_count": 2,
   "metadata": {},
   "outputs": [
    {
     "name": "stdout",
     "output_type": "stream",
     "text": [
      "\n",
      "0: 160x640 1 train, 49.6ms\n",
      "Speed: 6.2ms preprocess, 49.6ms inference, 614.8ms postprocess per image at shape (1, 3, 160, 640)\n",
      "Kết quả nhận diện:\n"
     ]
    },
    {
     "data": {
      "text/plain": [
       "True"
      ]
     },
     "execution_count": 2,
     "metadata": {},
     "output_type": "execute_result"
    }
   ],
   "source": [
    "detector = TextDetectionOCR('yolov8s.pt')\n",
    "\n",
    "# Xử lý ảnh\n",
    "results, visualized_image = detector.process_image(\n",
    "    './data/sample/ocr.png',\n",
    "    visualize=True\n",
    ")\n",
    "\n",
    "# In kết quả\n",
    "print(\"Kết quả nhận diện:\")\n",
    "for result in results:\n",
    "    print(f\"Text: {result['text']}\")\n",
    "    print(f\"Vị trí: {result['box']}\\n\")\n",
    "\n",
    "# Hiển thị ảnh kết quả\n",
    "# cv2.imshow('Results', visualized_image)\n",
    "# cv2.waitKey(0)\n",
    "# cv2.destroyAllWindows()\n",
    "\n",
    "# Lưu ảnh kết quả\n",
    "cv2.imwrite('result.jpg', visualized_image)"
   ]
  },
  {
   "cell_type": "code",
   "execution_count": 3,
   "metadata": {},
   "outputs": [
    {
     "name": "stdout",
     "output_type": "stream",
     "text": [
      "Collecting easyocr\n",
      "  Downloading easyocr-1.7.2-py3-none-any.whl.metadata (10 kB)\n",
      "Requirement already satisfied: torch in /home/thiendc/projects/.thienenv/lib/python3.10/site-packages (from easyocr) (2.4.0)\n",
      "Requirement already satisfied: torchvision>=0.5 in /home/thiendc/projects/.thienenv/lib/python3.10/site-packages (from easyocr) (0.19.0)\n",
      "Requirement already satisfied: opencv-python-headless in /home/thiendc/projects/.thienenv/lib/python3.10/site-packages (from easyocr) (4.10.0.84)\n",
      "Requirement already satisfied: scipy in /home/thiendc/projects/.thienenv/lib/python3.10/site-packages (from easyocr) (1.13.1)\n",
      "Requirement already satisfied: numpy in /home/thiendc/projects/.thienenv/lib/python3.10/site-packages (from easyocr) (1.26.4)\n",
      "Requirement already satisfied: Pillow in /home/thiendc/projects/.thienenv/lib/python3.10/site-packages (from easyocr) (10.4.0)\n",
      "Requirement already satisfied: scikit-image in /home/thiendc/projects/.thienenv/lib/python3.10/site-packages (from easyocr) (0.24.0)\n",
      "Collecting python-bidi (from easyocr)\n",
      "  Downloading python_bidi-0.6.3-cp310-cp310-manylinux_2_17_x86_64.manylinux2014_x86_64.whl.metadata (4.9 kB)\n",
      "Requirement already satisfied: PyYAML in /home/thiendc/projects/.thienenv/lib/python3.10/site-packages (from easyocr) (6.0.2)\n",
      "Collecting Shapely (from easyocr)\n",
      "  Downloading shapely-2.0.6-cp310-cp310-manylinux_2_17_x86_64.manylinux2014_x86_64.whl.metadata (7.0 kB)\n",
      "Collecting pyclipper (from easyocr)\n",
      "  Downloading pyclipper-1.3.0.post6-cp310-cp310-manylinux_2_12_x86_64.manylinux2010_x86_64.whl.metadata (9.0 kB)\n",
      "Collecting ninja (from easyocr)\n",
      "  Downloading ninja-1.11.1.1-py2.py3-none-manylinux1_x86_64.manylinux_2_5_x86_64.whl.metadata (5.3 kB)\n",
      "Requirement already satisfied: filelock in /home/thiendc/projects/.thienenv/lib/python3.10/site-packages (from torch->easyocr) (3.13.1)\n",
      "Requirement already satisfied: typing-extensions>=4.8.0 in /home/thiendc/projects/.thienenv/lib/python3.10/site-packages (from torch->easyocr) (4.12.2)\n",
      "Requirement already satisfied: sympy in /home/thiendc/projects/.thienenv/lib/python3.10/site-packages (from torch->easyocr) (1.13.2)\n",
      "Requirement already satisfied: networkx in /home/thiendc/projects/.thienenv/lib/python3.10/site-packages (from torch->easyocr) (3.3)\n",
      "Requirement already satisfied: jinja2 in /home/thiendc/projects/.thienenv/lib/python3.10/site-packages (from torch->easyocr) (3.1.4)\n",
      "Requirement already satisfied: fsspec in /home/thiendc/projects/.thienenv/lib/python3.10/site-packages (from torch->easyocr) (2024.3.1)\n",
      "Requirement already satisfied: nvidia-cuda-nvrtc-cu12==12.1.105 in /home/thiendc/projects/.thienenv/lib/python3.10/site-packages (from torch->easyocr) (12.1.105)\n",
      "Requirement already satisfied: nvidia-cuda-runtime-cu12==12.1.105 in /home/thiendc/projects/.thienenv/lib/python3.10/site-packages (from torch->easyocr) (12.1.105)\n",
      "Requirement already satisfied: nvidia-cuda-cupti-cu12==12.1.105 in /home/thiendc/projects/.thienenv/lib/python3.10/site-packages (from torch->easyocr) (12.1.105)\n",
      "Requirement already satisfied: nvidia-cudnn-cu12==9.1.0.70 in /home/thiendc/projects/.thienenv/lib/python3.10/site-packages (from torch->easyocr) (9.1.0.70)\n",
      "Requirement already satisfied: nvidia-cublas-cu12==12.1.3.1 in /home/thiendc/projects/.thienenv/lib/python3.10/site-packages (from torch->easyocr) (12.1.3.1)\n",
      "Requirement already satisfied: nvidia-cufft-cu12==11.0.2.54 in /home/thiendc/projects/.thienenv/lib/python3.10/site-packages (from torch->easyocr) (11.0.2.54)\n",
      "Requirement already satisfied: nvidia-curand-cu12==10.3.2.106 in /home/thiendc/projects/.thienenv/lib/python3.10/site-packages (from torch->easyocr) (10.3.2.106)\n",
      "Requirement already satisfied: nvidia-cusolver-cu12==11.4.5.107 in /home/thiendc/projects/.thienenv/lib/python3.10/site-packages (from torch->easyocr) (11.4.5.107)\n",
      "Requirement already satisfied: nvidia-cusparse-cu12==12.1.0.106 in /home/thiendc/projects/.thienenv/lib/python3.10/site-packages (from torch->easyocr) (12.1.0.106)\n",
      "Requirement already satisfied: nvidia-nccl-cu12==2.20.5 in /home/thiendc/projects/.thienenv/lib/python3.10/site-packages (from torch->easyocr) (2.20.5)\n",
      "Requirement already satisfied: nvidia-nvtx-cu12==12.1.105 in /home/thiendc/projects/.thienenv/lib/python3.10/site-packages (from torch->easyocr) (12.1.105)\n",
      "Requirement already satisfied: triton==3.0.0 in /home/thiendc/projects/.thienenv/lib/python3.10/site-packages (from torch->easyocr) (3.0.0)\n",
      "Requirement already satisfied: nvidia-nvjitlink-cu12 in /home/thiendc/projects/.thienenv/lib/python3.10/site-packages (from nvidia-cusolver-cu12==11.4.5.107->torch->easyocr) (12.6.77)\n",
      "Requirement already satisfied: imageio>=2.33 in /home/thiendc/projects/.thienenv/lib/python3.10/site-packages (from scikit-image->easyocr) (2.35.1)\n",
      "Requirement already satisfied: tifffile>=2022.8.12 in /home/thiendc/projects/.thienenv/lib/python3.10/site-packages (from scikit-image->easyocr) (2024.9.20)\n",
      "Requirement already satisfied: packaging>=21 in /home/thiendc/projects/.thienenv/lib/python3.10/site-packages (from scikit-image->easyocr) (24.1)\n",
      "Requirement already satisfied: lazy-loader>=0.4 in /home/thiendc/projects/.thienenv/lib/python3.10/site-packages (from scikit-image->easyocr) (0.4)\n",
      "Requirement already satisfied: MarkupSafe>=2.0 in /home/thiendc/projects/.thienenv/lib/python3.10/site-packages (from jinja2->torch->easyocr) (2.1.3)\n",
      "Requirement already satisfied: mpmath<1.4,>=1.1.0 in /home/thiendc/projects/.thienenv/lib/python3.10/site-packages (from sympy->torch->easyocr) (1.3.0)\n",
      "Downloading easyocr-1.7.2-py3-none-any.whl (2.9 MB)\n",
      "\u001b[2K   \u001b[90m━━━━━━━━━━━━━━━━━━━━━━━━━━━━━━━━━━━━━━━━\u001b[0m \u001b[32m2.9/2.9 MB\u001b[0m \u001b[31m18.8 MB/s\u001b[0m eta \u001b[36m0:00:00\u001b[0ma \u001b[36m0:00:01\u001b[0m\n",
      "\u001b[?25hDownloading ninja-1.11.1.1-py2.py3-none-manylinux1_x86_64.manylinux_2_5_x86_64.whl (307 kB)\n",
      "Downloading pyclipper-1.3.0.post6-cp310-cp310-manylinux_2_12_x86_64.manylinux2010_x86_64.whl (912 kB)\n",
      "\u001b[2K   \u001b[90m━━━━━━━━━━━━━━━━━━━━━━━━━━━━━━━━━━━━━━━━\u001b[0m \u001b[32m912.2/912.2 kB\u001b[0m \u001b[31m8.3 MB/s\u001b[0m eta \u001b[36m0:00:00\u001b[0m\n",
      "\u001b[?25hDownloading python_bidi-0.6.3-cp310-cp310-manylinux_2_17_x86_64.manylinux2014_x86_64.whl (286 kB)\n",
      "Downloading shapely-2.0.6-cp310-cp310-manylinux_2_17_x86_64.manylinux2014_x86_64.whl (2.5 MB)\n",
      "\u001b[2K   \u001b[90m━━━━━━━━━━━━━━━━━━━━━━━━━━━━━━━━━━━━━━━━\u001b[0m \u001b[32m2.5/2.5 MB\u001b[0m \u001b[31m42.7 MB/s\u001b[0m eta \u001b[36m0:00:00\u001b[0m\n",
      "\u001b[?25hInstalling collected packages: python-bidi, pyclipper, ninja, Shapely, easyocr\n",
      "Successfully installed Shapely-2.0.6 easyocr-1.7.2 ninja-1.11.1.1 pyclipper-1.3.0.post6 python-bidi-0.6.3\n"
     ]
    }
   ],
   "source": [
    "!pip install easyocr\n"
   ]
  },
  {
   "cell_type": "code",
   "execution_count": 4,
   "metadata": {},
   "outputs": [
    {
     "name": "stderr",
     "output_type": "stream",
     "text": [
      "Downloading detection model, please wait. This may take several minutes depending upon your network connection.\n"
     ]
    },
    {
     "name": "stdout",
     "output_type": "stream",
     "text": [
      "Progress: |██████████████████████████████████████████████████| 100.0% Complete"
     ]
    },
    {
     "name": "stderr",
     "output_type": "stream",
     "text": [
      "Downloading recognition model, please wait. This may take several minutes depending upon your network connection.\n"
     ]
    },
    {
     "name": "stdout",
     "output_type": "stream",
     "text": [
      "Progress: |██████████████████████████████████████████████████| 100.0% CompleteDetected text: 'CHE' with confidence: 0.9995971751298354\n",
      "Detected text: '1-01' with confidence: 0.6182919604570368\n",
      "Detected text: 'BUR' with confidence: 0.9999307618526357\n",
      "Detected text: '49.55' with confidence: 0.8905346903352951\n"
     ]
    },
    {
     "name": "stderr",
     "output_type": "stream",
     "text": [
      "/home/thiendc/projects/.thienenv/lib/python3.10/site-packages/torch/nn/parallel/parallel_apply.py:79: FutureWarning: `torch.cuda.amp.autocast(args...)` is deprecated. Please use `torch.amp.autocast('cuda', args...)` instead.\n",
      "  with torch.cuda.device(device), torch.cuda.stream(stream), autocast(enabled=autocast_enabled):\n"
     ]
    }
   ],
   "source": [
    "import easyocr\n",
    "\n",
    "# Load the image file path\n",
    "image_path = './data/sample/ocr.png'  # Replace with your local path\n",
    "\n",
    "# Initialize the EasyOCR reader\n",
    "reader = easyocr.Reader(['en'], gpu =  True)\n",
    "\n",
    "# Perform text detection and recognition\n",
    "results = reader.readtext(image_path)\n",
    "\n",
    "# Print the results\n",
    "for (bbox, text, confidence) in results:\n",
    "    print(f\"Detected text: '{text}' with confidence: {confidence}\")"
   ]
  },
  {
   "cell_type": "code",
   "execution_count": 5,
   "metadata": {},
   "outputs": [
    {
     "data": {
      "text/plain": [
       "[([[95, 15], [129, 15], [129, 33], [95, 33]], 'CHE', 0.9995971751298354),\n",
       " ([[139, 15], [183, 15], [183, 35], [139, 35]], '1-01', 0.6182919604570368),\n",
       " ([[191, 15], [223, 15], [223, 33], [191, 33]], 'BUR', 0.9999307618526357),\n",
       " ([[99, 39], [139, 39], [139, 55], [99, 55]], '49.55', 0.8905346903352951)]"
      ]
     },
     "execution_count": 5,
     "metadata": {},
     "output_type": "execute_result"
    }
   ],
   "source": [
    "results"
   ]
  },
  {
   "cell_type": "code",
   "execution_count": null,
   "metadata": {},
   "outputs": [],
   "source": []
  }
 ],
 "metadata": {
  "kernelspec": {
   "display_name": "Python 3",
   "language": "python",
   "name": "python3"
  },
  "language_info": {
   "codemirror_mode": {
    "name": "ipython",
    "version": 3
   },
   "file_extension": ".py",
   "mimetype": "text/x-python",
   "name": "python",
   "nbconvert_exporter": "python",
   "pygments_lexer": "ipython3",
   "version": "3.10.15"
  }
 },
 "nbformat": 4,
 "nbformat_minor": 2
}
