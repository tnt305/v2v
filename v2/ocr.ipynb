{
 "cells": [
  {
   "cell_type": "code",
   "execution_count": null,
   "metadata": {},
   "outputs": [
    {
     "name": "stdout",
     "output_type": "stream",
     "text": [
      "Collecting easyocr\n",
      "  Downloading easyocr-1.7.2-py3-none-any.whl.metadata (10 kB)\n",
      "Requirement already satisfied: torch in /home/thiendc/projects/.thienenv/lib/python3.10/site-packages (from easyocr) (2.4.0)\n",
      "Requirement already satisfied: torchvision>=0.5 in /home/thiendc/projects/.thienenv/lib/python3.10/site-packages (from easyocr) (0.19.0)\n",
      "Requirement already satisfied: opencv-python-headless in /home/thiendc/projects/.thienenv/lib/python3.10/site-packages (from easyocr) (4.10.0.84)\n",
      "Requirement already satisfied: scipy in /home/thiendc/projects/.thienenv/lib/python3.10/site-packages (from easyocr) (1.13.1)\n",
      "Requirement already satisfied: numpy in /home/thiendc/projects/.thienenv/lib/python3.10/site-packages (from easyocr) (1.26.4)\n",
      "Requirement already satisfied: Pillow in /home/thiendc/projects/.thienenv/lib/python3.10/site-packages (from easyocr) (10.4.0)\n",
      "Requirement already satisfied: scikit-image in /home/thiendc/projects/.thienenv/lib/python3.10/site-packages (from easyocr) (0.24.0)\n",
      "Collecting python-bidi (from easyocr)\n",
      "  Downloading python_bidi-0.6.3-cp310-cp310-manylinux_2_17_x86_64.manylinux2014_x86_64.whl.metadata (4.9 kB)\n",
      "Requirement already satisfied: PyYAML in /home/thiendc/projects/.thienenv/lib/python3.10/site-packages (from easyocr) (6.0.2)\n",
      "Collecting Shapely (from easyocr)\n",
      "  Downloading shapely-2.0.6-cp310-cp310-manylinux_2_17_x86_64.manylinux2014_x86_64.whl.metadata (7.0 kB)\n",
      "Collecting pyclipper (from easyocr)\n",
      "  Downloading pyclipper-1.3.0.post6-cp310-cp310-manylinux_2_12_x86_64.manylinux2010_x86_64.whl.metadata (9.0 kB)\n",
      "Collecting ninja (from easyocr)\n",
      "  Downloading ninja-1.11.1.1-py2.py3-none-manylinux1_x86_64.manylinux_2_5_x86_64.whl.metadata (5.3 kB)\n",
      "Requirement already satisfied: filelock in /home/thiendc/projects/.thienenv/lib/python3.10/site-packages (from torch->easyocr) (3.13.1)\n",
      "Requirement already satisfied: typing-extensions>=4.8.0 in /home/thiendc/projects/.thienenv/lib/python3.10/site-packages (from torch->easyocr) (4.12.2)\n",
      "Requirement already satisfied: sympy in /home/thiendc/projects/.thienenv/lib/python3.10/site-packages (from torch->easyocr) (1.13.2)\n",
      "Requirement already satisfied: networkx in /home/thiendc/projects/.thienenv/lib/python3.10/site-packages (from torch->easyocr) (3.3)\n",
      "Requirement already satisfied: jinja2 in /home/thiendc/projects/.thienenv/lib/python3.10/site-packages (from torch->easyocr) (3.1.4)\n",
      "Requirement already satisfied: fsspec in /home/thiendc/projects/.thienenv/lib/python3.10/site-packages (from torch->easyocr) (2024.3.1)\n",
      "Requirement already satisfied: nvidia-cuda-nvrtc-cu12==12.1.105 in /home/thiendc/projects/.thienenv/lib/python3.10/site-packages (from torch->easyocr) (12.1.105)\n",
      "Requirement already satisfied: nvidia-cuda-runtime-cu12==12.1.105 in /home/thiendc/projects/.thienenv/lib/python3.10/site-packages (from torch->easyocr) (12.1.105)\n",
      "Requirement already satisfied: nvidia-cuda-cupti-cu12==12.1.105 in /home/thiendc/projects/.thienenv/lib/python3.10/site-packages (from torch->easyocr) (12.1.105)\n",
      "Requirement already satisfied: nvidia-cudnn-cu12==9.1.0.70 in /home/thiendc/projects/.thienenv/lib/python3.10/site-packages (from torch->easyocr) (9.1.0.70)\n",
      "Requirement already satisfied: nvidia-cublas-cu12==12.1.3.1 in /home/thiendc/projects/.thienenv/lib/python3.10/site-packages (from torch->easyocr) (12.1.3.1)\n",
      "Requirement already satisfied: nvidia-cufft-cu12==11.0.2.54 in /home/thiendc/projects/.thienenv/lib/python3.10/site-packages (from torch->easyocr) (11.0.2.54)\n",
      "Requirement already satisfied: nvidia-curand-cu12==10.3.2.106 in /home/thiendc/projects/.thienenv/lib/python3.10/site-packages (from torch->easyocr) (10.3.2.106)\n",
      "Requirement already satisfied: nvidia-cusolver-cu12==11.4.5.107 in /home/thiendc/projects/.thienenv/lib/python3.10/site-packages (from torch->easyocr) (11.4.5.107)\n",
      "Requirement already satisfied: nvidia-cusparse-cu12==12.1.0.106 in /home/thiendc/projects/.thienenv/lib/python3.10/site-packages (from torch->easyocr) (12.1.0.106)\n",
      "Requirement already satisfied: nvidia-nccl-cu12==2.20.5 in /home/thiendc/projects/.thienenv/lib/python3.10/site-packages (from torch->easyocr) (2.20.5)\n",
      "Requirement already satisfied: nvidia-nvtx-cu12==12.1.105 in /home/thiendc/projects/.thienenv/lib/python3.10/site-packages (from torch->easyocr) (12.1.105)\n",
      "Requirement already satisfied: triton==3.0.0 in /home/thiendc/projects/.thienenv/lib/python3.10/site-packages (from torch->easyocr) (3.0.0)\n",
      "Requirement already satisfied: nvidia-nvjitlink-cu12 in /home/thiendc/projects/.thienenv/lib/python3.10/site-packages (from nvidia-cusolver-cu12==11.4.5.107->torch->easyocr) (12.6.77)\n",
      "Requirement already satisfied: imageio>=2.33 in /home/thiendc/projects/.thienenv/lib/python3.10/site-packages (from scikit-image->easyocr) (2.35.1)\n",
      "Requirement already satisfied: tifffile>=2022.8.12 in /home/thiendc/projects/.thienenv/lib/python3.10/site-packages (from scikit-image->easyocr) (2024.9.20)\n",
      "Requirement already satisfied: packaging>=21 in /home/thiendc/projects/.thienenv/lib/python3.10/site-packages (from scikit-image->easyocr) (24.1)\n",
      "Requirement already satisfied: lazy-loader>=0.4 in /home/thiendc/projects/.thienenv/lib/python3.10/site-packages (from scikit-image->easyocr) (0.4)\n",
      "Requirement already satisfied: MarkupSafe>=2.0 in /home/thiendc/projects/.thienenv/lib/python3.10/site-packages (from jinja2->torch->easyocr) (2.1.3)\n",
      "Requirement already satisfied: mpmath<1.4,>=1.1.0 in /home/thiendc/projects/.thienenv/lib/python3.10/site-packages (from sympy->torch->easyocr) (1.3.0)\n",
      "Downloading easyocr-1.7.2-py3-none-any.whl (2.9 MB)\n",
      "\u001b[2K   \u001b[90m━━━━━━━━━━━━━━━━━━━━━━━━━━━━━━━━━━━━━━━━\u001b[0m \u001b[32m2.9/2.9 MB\u001b[0m \u001b[31m18.8 MB/s\u001b[0m eta \u001b[36m0:00:00\u001b[0ma \u001b[36m0:00:01\u001b[0m\n",
      "\u001b[?25hDownloading ninja-1.11.1.1-py2.py3-none-manylinux1_x86_64.manylinux_2_5_x86_64.whl (307 kB)\n",
      "Downloading pyclipper-1.3.0.post6-cp310-cp310-manylinux_2_12_x86_64.manylinux2010_x86_64.whl (912 kB)\n",
      "\u001b[2K   \u001b[90m━━━━━━━━━━━━━━━━━━━━━━━━━━━━━━━━━━━━━━━━\u001b[0m \u001b[32m912.2/912.2 kB\u001b[0m \u001b[31m8.3 MB/s\u001b[0m eta \u001b[36m0:00:00\u001b[0m\n",
      "\u001b[?25hDownloading python_bidi-0.6.3-cp310-cp310-manylinux_2_17_x86_64.manylinux2014_x86_64.whl (286 kB)\n",
      "Downloading shapely-2.0.6-cp310-cp310-manylinux_2_17_x86_64.manylinux2014_x86_64.whl (2.5 MB)\n",
      "\u001b[2K   \u001b[90m━━━━━━━━━━━━━━━━━━━━━━━━━━━━━━━━━━━━━━━━\u001b[0m \u001b[32m2.5/2.5 MB\u001b[0m \u001b[31m42.7 MB/s\u001b[0m eta \u001b[36m0:00:00\u001b[0m\n",
      "\u001b[?25hInstalling collected packages: python-bidi, pyclipper, ninja, Shapely, easyocr\n",
      "Successfully installed Shapely-2.0.6 easyocr-1.7.2 ninja-1.11.1.1 pyclipper-1.3.0.post6 python-bidi-0.6.3\n"
     ]
    }
   ],
   "source": [
    "!pip install easyocr"
   ]
  },
  {
   "cell_type": "code",
   "execution_count": 4,
   "metadata": {},
   "outputs": [
    {
     "name": "stderr",
     "output_type": "stream",
     "text": [
      "Downloading detection model, please wait. This may take several minutes depending upon your network connection.\n"
     ]
    },
    {
     "name": "stdout",
     "output_type": "stream",
     "text": [
      "Progress: |██████████████████████████████████████████████████| 100.0% Complete"
     ]
    },
    {
     "name": "stderr",
     "output_type": "stream",
     "text": [
      "Downloading recognition model, please wait. This may take several minutes depending upon your network connection.\n"
     ]
    },
    {
     "name": "stdout",
     "output_type": "stream",
     "text": [
      "Progress: |██████████████████████████████████████████████████| 100.0% CompleteDetected text: 'CHE' with confidence: 0.9995971751298354\n",
      "Detected text: '1-01' with confidence: 0.6182919604570368\n",
      "Detected text: 'BUR' with confidence: 0.9999307618526357\n",
      "Detected text: '49.55' with confidence: 0.8905346903352951\n"
     ]
    },
    {
     "name": "stderr",
     "output_type": "stream",
     "text": [
      "/home/thiendc/projects/.thienenv/lib/python3.10/site-packages/torch/nn/parallel/parallel_apply.py:79: FutureWarning: `torch.cuda.amp.autocast(args...)` is deprecated. Please use `torch.amp.autocast('cuda', args...)` instead.\n",
      "  with torch.cuda.device(device), torch.cuda.stream(stream), autocast(enabled=autocast_enabled):\n"
     ]
    }
   ],
   "source": [
    "import easyocr\n",
    "\n",
    "# Load the image file path\n",
    "image_path = './data/sample/ocr.png'  # Replace with your local path\n",
    "\n",
    "# Initialize the EasyOCR reader\n",
    "reader = easyocr.Reader(['en'], gpu =  True)\n",
    "\n",
    "# Perform text detection and recognition\n",
    "results = reader.readtext(image_path)\n",
    "\n",
    "# Print the results\n",
    "for (bbox, text, confidence) in results:\n",
    "    print(f\"Detected text: '{text}' with confidence: {confidence}\")"
   ]
  },
  {
   "cell_type": "code",
   "execution_count": 9,
   "metadata": {},
   "outputs": [
    {
     "data": {
      "text/plain": [
       "50.0"
      ]
     },
     "execution_count": 9,
     "metadata": {},
     "output_type": "execute_result"
    }
   ],
   "source": [
    "float(\"50\")"
   ]
  },
  {
   "cell_type": "code",
   "execution_count": null,
   "metadata": {},
   "outputs": [],
   "source": [
    "\n",
    "def is_timestamp(text: str):\n",
    "    try:\n",
    "        float(text)\n",
    "        return text\n",
    "    except ValueError:\n",
    "        if ':' in text:\n",
    "            before , _ = text.split(\":\")\n",
    "            try:\n",
    "                float(before.strip())\n",
    "                return text\n",
    "            except:\n",
    "                return text\n",
    "        elif ',' in text:\n",
    "            try:\n",
    "                float(before.strip())\n",
    "                return text.replace(\",\", \":\")\n",
    "            except:\n",
    "                return text.replace(\",\", \":\")\n",
    "        else:\n",
    "            pass\n",
    "\n",
    "is_timestamp(\"1-01\")"
   ]
  },
  {
   "cell_type": "code",
   "execution_count": null,
   "metadata": {},
   "outputs": [],
   "source": []
  },
  {
   "cell_type": "code",
   "execution_count": 52,
   "metadata": {},
   "outputs": [
    {
     "name": "stdout",
     "output_type": "stream",
     "text": [
      "CHE\n",
      "1-01\n",
      "BUR\n",
      "49.55\n"
     ]
    }
   ],
   "source": [
    "data =  [\n",
    "    ([[95, 15], [129, 15], [129, 33], [95, 33]], 'CHE', 0.9995971751298354),\n",
    "    ([[139, 15], [183, 15], [183, 35], [139, 35]], '1-01', 0.6182919604570368),\n",
    "    ([[191, 15], [223, 15], [223, 33], [191, 33]], 'BUR', 0.9999307618526357),\n",
    "    ([[99, 39], [139, 39], [139, 55], [99, 55]], '49.55', 0.8905346903352951)\n",
    "    ]\n",
    "\n",
    "for item in data:\n",
    "    values = item[1]\n",
    "    print(values)"
   ]
  },
  {
   "cell_type": "code",
   "execution_count": 61,
   "metadata": {},
   "outputs": [
    {
     "data": {
      "text/plain": [
       "[([[95, 15], [129, 15], [129, 33], [95, 33]], 'CHE', 0.9995971751298354),\n",
       " ([[139, 15], [183, 15], [183, 35], [139, 35]], '1-01', 0.6182919604570368),\n",
       " ([[191, 15], [223, 15], [223, 33], [191, 33]], 'BUR', 0.9999307618526357),\n",
       " ([[99, 39], [139, 39], [139, 55], [99, 55]], '49.55', 0.8905346903352951)]"
      ]
     },
     "execution_count": 61,
     "metadata": {},
     "output_type": "execute_result"
    }
   ],
   "source": [
    "data"
   ]
  },
  {
   "cell_type": "code",
   "execution_count": null,
   "metadata": {},
   "outputs": [
    {
     "data": {
      "text/plain": [
       "[15, 15, 15, 39]"
      ]
     },
     "execution_count": 76,
     "metadata": {},
     "output_type": "execute_result"
    }
   ],
   "source": [
    "from typing import List\n",
    "def get_height(data: List):\n",
    "    \"\"\" \n",
    "        Input:\n",
    "            text có bbox của easyocr \n",
    "            [ [x1, y1], [x2, y2], [x3, y3], [x4, y4] ]\n",
    "        Output\n",
    "            y1 values\n",
    "    \"\"\"\n",
    "    bbox = [item[0] for item in data]\n",
    "    y_values = [point[0][1] for point in bbox]\n",
    "    # y1 = y_values[0]\n",
    "    return y_values\n",
    "\n",
    "def get_item(data: List):\n",
    "\n",
    "    # Get y1 values in bboxes1\n",
    "    bbox = [item[0] for item in data]\n",
    "    y_values = [point[0][1] for point in bbox]\n",
    "    # get text \n",
    "    text = [item[1] for item in data]\n",
    "    # get confidence score\n",
    "    conf_score = [item[2] for item in data]\n",
    "    return y_values, text, conf_score\n",
    "\n",
    "a,b,c =  get_item(data)\n",
    "# text, score = get_text(data)"
   ]
  },
  {
   "cell_type": "code",
   "execution_count": 92,
   "metadata": {},
   "outputs": [
    {
     "data": {
      "text/plain": [
       "[(15,\n",
       "  'CHE',\n",
       "  0.9995971751298354,\n",
       "  ([[95, 15], [129, 15], [129, 33], [95, 33]], 'CHE', 0.9995971751298354)),\n",
       " (15,\n",
       "  '1-01',\n",
       "  0.6182919604570368,\n",
       "  ([[139, 15], [183, 15], [183, 35], [139, 35]], '1-01', 0.6182919604570368)),\n",
       " (15,\n",
       "  'BUR',\n",
       "  0.9999307618526357,\n",
       "  ([[191, 15], [223, 15], [223, 33], [191, 33]], 'BUR', 0.9999307618526357)),\n",
       " (39,\n",
       "  '49.55',\n",
       "  0.8905346903352951,\n",
       "  ([[99, 39], [139, 39], [139, 55], [99, 55]], '49.55', 0.8905346903352951))]"
      ]
     },
     "execution_count": 92,
     "metadata": {},
     "output_type": "execute_result"
    }
   ],
   "source": [
    "list(zip(a,b,c, data))"
   ]
  },
  {
   "cell_type": "code",
   "execution_count": null,
   "metadata": {},
   "outputs": [
    {
     "name": "stdout",
     "output_type": "stream",
     "text": [
      "Line 1:\n",
      "  Label: CHE, Confidence: 0.9995971751298354, Bounding Box: [[95, 15], [129, 15], [129, 33], [95, 33]]\n",
      "  Label: 1-01, Confidence: 0.6182919604570368, Bounding Box: [[139, 15], [183, 15], [183, 35], [139, 35]]\n",
      "  Label: BUR, Confidence: 0.9999307618526357, Bounding Box: [[191, 15], [223, 15], [223, 33], [191, 33]]\n",
      "Line 2:\n",
      "  Label: 49.55, Confidence: 0.8905346903352951, Bounding Box: [[99, 39], [139, 39], [139, 55], [99, 55]]\n"
     ]
    }
   ],
   "source": [
    "# current_y = a[0]\n",
    "# for i, j, k in zip(a,b,c):\n",
    "#     if abs(i - current_y) <= 2:\n",
    "#         current_line.append()\n",
    "\n",
    "from typing import List\n",
    "\n",
    "def get_item(data: List):\n",
    "    # Lấy các tọa độ bounding boxes và thông tin y_values, confidence score và text\n",
    "    bbox = [item[0] for item in data]\n",
    "    y_values = [point[0][1] for point in bbox]\n",
    "    text = [item[1] for item in data]\n",
    "    conf_score = [item[2] for item in data]\n",
    "    \n",
    "    return y_values, conf_score, text\n",
    "\n",
    "def group_by_lines(data: List, y_threshold: float = 5.0):\n",
    "    \"\"\"\n",
    "    Chia dữ liệu thành các dòng (lines) dựa trên các giá trị y của bounding boxes.\n",
    "    Dữ liệu có giá trị y gần nhau sẽ được coi là cùng một dòng.\n",
    "    \"\"\"\n",
    "    # Lấy thông tin y_values, confidence score và text\n",
    "    y_values, conf_scores, texts = get_item(data)\n",
    "    \n",
    "    # Sắp xếp các item theo giá trị y (từ thấp đến cao)\n",
    "    sorted_data = list(zip(y_values, conf_scores, texts, data))\n",
    "    \n",
    "    # Khởi tạo danh sách các dòng (lines)\n",
    "    lines = []\n",
    "    current_line = []\n",
    "    current_y = sorted_data[0][0]\n",
    "    \n",
    "    # Duyệt qua từng item trong dữ liệu đã sắp xếp và nhóm chúng theo dòng\n",
    "    for y, _, _, item in sorted_data:\n",
    "        # Nếu y_value của item này gần với y_value hiện tại, chúng cùng một dòng\n",
    "        if abs(y - current_y) <= y_threshold:\n",
    "            current_line.append(item)\n",
    "        else:\n",
    "            # Nếu không, tạo một dòng mới\n",
    "            lines.append(current_line)\n",
    "            current_line = [item]\n",
    "            current_y = y\n",
    "    \n",
    "    # Đừng quên thêm dòng cuối vào danh sách\n",
    "    if current_line:\n",
    "        lines.append(current_line)\n",
    "    \n",
    "    return lines\n",
    "\n",
    "# Dữ liệu\n",
    "data = [\n",
    "    ([[95, 15], [129, 15], [129, 33], [95, 33]], 'CHE', 0.9995971751298354),\n",
    "    ([[139, 15], [183, 15], [183, 35], [139, 35]], '1-01', 0.6182919604570368),\n",
    "    ([[191, 15], [223, 15], [223, 33], [191, 33]], 'BUR', 0.9999307618526357),\n",
    "    ([[99, 39], [139, 39], [139, 55], [99, 55]], '49.55', 0.8905346903352951)\n",
    "]\n",
    "\n",
    "# Chia dữ liệu thành các dòng\n",
    "lines = group_by_lines(data)\n",
    "\n",
    "# In ra các dòng và các item trong từng dòng\n",
    "for idx, line in enumerate(lines):\n",
    "    print(f\"Line {idx + 1}:\")\n",
    "    for item in line:\n",
    "        print(f\"  Label: {item[1]}, Confidence: {item[2]}, Bounding Box: {item[0]}\")\n"
   ]
  },
  {
   "cell_type": "code",
   "execution_count": 142,
   "metadata": {},
   "outputs": [
    {
     "name": "stdout",
     "output_type": "stream",
     "text": [
      "timestamp is not recognized\n",
      "49:55\n"
     ]
    }
   ],
   "source": [
    "\n",
    "def is_timestampt(text: str):\n",
    "    \"\"\"\n",
    "        Function:\n",
    "            Kiểm tra một giá trị bounding box có phải là timestamp không\n",
    "            Một bbox được coi là timestamp khi được phân biệt bởi dấu , hoặc : hoặc có dấu .\n",
    "\n",
    "        Output:\n",
    "            Một output nếu không phải là timestamp thì sẽ trả về None\n",
    "    \"\"\"\n",
    "    try:\n",
    "        float(text)\n",
    "        text = text.replace(\".\", \":\")\n",
    "        return text\n",
    "    except ValueError:\n",
    "        if ':' in text:\n",
    "            before , _ = text.split(\":\")\n",
    "            try:\n",
    "                float(before.strip())\n",
    "                return text\n",
    "            except:\n",
    "                return text\n",
    "        elif ',' in text:\n",
    "            try:\n",
    "                float(before.strip())\n",
    "                return text.replace(\",\", \":\")\n",
    "            except:\n",
    "                return text.replace(\",\", \":\")\n",
    "        else:\n",
    "            pass\n",
    "\n",
    "for line in lines:\n",
    "    text = line[0][1]\n",
    "    if is_timestampt(text):\n",
    "        current_time = is_timestampt(text)\n",
    "        print(current_time)\n",
    "    else:\n",
    "        print(\"timestamp is not recognized\")\n",
    "    "
   ]
  },
  {
   "cell_type": "code",
   "execution_count": null,
   "metadata": {},
   "outputs": [
    {
     "name": "stdout",
     "output_type": "stream",
     "text": [
      "it goes here\n",
      "49:55\n"
     ]
    }
   ],
   "source": [
    "for line in lines:\n",
    "    text1, text2 =  line[0][1], line[-1][1]\n",
    "    if is_timestampt(text1):\n",
    "        current_time = is_timestampt(text1)\n",
    "        print(current_time)\n",
    "        break\n",
    "    elif is_timestampt(text2):\n",
    "        current_time = is_timestampt(text2)\n",
    "        print(current_time)\n",
    "        break"
   ]
  },
  {
   "cell_type": "code",
   "execution_count": 127,
   "metadata": {},
   "outputs": [
    {
     "data": {
      "text/plain": [
       "[([[95, 15], [129, 15], [129, 33], [95, 33]], 'CHE', 0.9995971751298354),\n",
       " ([[99, 39], [139, 39], [139, 55], [99, 55]], '49.55', 0.8905346903352951)]"
      ]
     },
     "execution_count": 127,
     "metadata": {},
     "output_type": "execute_result"
    }
   ],
   "source": [
    "[line[0] for line in lines]"
   ]
  },
  {
   "cell_type": "code",
   "execution_count": null,
   "metadata": {},
   "outputs": [
    {
     "name": "stdout",
     "output_type": "stream",
     "text": [
      "Time 1: 0:30:55\n",
      "Time 2: 0:30:55\n",
      "Difference: 0:00:00\n"
     ]
    }
   ],
   "source": [
    "from datetime import timedelta\n",
    "\n",
    "def convert_to_timedelta(time_str: str) -> timedelta:\n",
    "    # Tách phút và giây từ chuỗi \"mm:ss\"\n",
    "    minutes, seconds = map(int, time_str.split(':'))\n",
    "    \n",
    "    # Tạo đối tượng timedelta từ phút và giây\n",
    "    return timedelta(minutes=minutes, seconds=seconds)\n",
    "\n",
    "def timestamp2frames(timestamp: str, fps: str = 2):\n",
    "    _, seconds = map(int, timestamp.split(':'))\n",
    "    back_frames = fps * seconds\n",
    "    return back_frames\n",
    "\n",
    "\n",
    "# Ví dụ sử dụng\n",
    "time_str1 = \"30:55\"  # 45 phút 55 giây\n",
    "time_str2 = \"30:55\"  # 30 phút 20 giây\n",
    "\n",
    "# Chuyển đổi các chuỗi thành timedelta\n",
    "time1 = convert_to_timedelta(time_str1)\n",
    "time2 = convert_to_timedelta(time_str2)\n",
    "\n",
    "# Trừ thời gian\n",
    "difference = time1 - time2\n",
    "\n",
    "# In ra kết quả\n",
    "print(f\"Time 1: {time1}\")\n",
    "print(f\"Time 2: {time2}\")\n",
    "print(f\"Difference: {difference}\")\n"
   ]
  }
 ],
 "metadata": {
  "kernelspec": {
   "display_name": "Python 3",
   "language": "python",
   "name": "python3"
  },
  "language_info": {
   "codemirror_mode": {
    "name": "ipython",
    "version": 3
   },
   "file_extension": ".py",
   "mimetype": "text/x-python",
   "name": "python",
   "nbconvert_exporter": "python",
   "pygments_lexer": "ipython3",
   "version": "3.10.0rc2"
  }
 },
 "nbformat": 4,
 "nbformat_minor": 2
}
