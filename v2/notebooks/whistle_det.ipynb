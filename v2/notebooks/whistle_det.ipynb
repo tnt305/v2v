{
 "cells": [
  {
   "cell_type": "code",
   "execution_count": 3,
   "metadata": {},
   "outputs": [
    {
     "name": "stdout",
     "output_type": "stream",
     "text": [
      "MoviePy - Writing audio in output_audio_7m40s_8m20s.wav\n"
     ]
    },
    {
     "name": "stderr",
     "output_type": "stream",
     "text": [
      "                                                                      "
     ]
    },
    {
     "name": "stdout",
     "output_type": "stream",
     "text": [
      "MoviePy - Done.\n"
     ]
    },
    {
     "name": "stderr",
     "output_type": "stream",
     "text": [
      "\r"
     ]
    }
   ],
   "source": [
    "from moviepy.editor import AudioFileClip\n",
    "\n",
    "# Đường dẫn đến file audio hoặc video\n",
    "input_file = \"/home/thiendc/projects/video_summarization/data/sample_tv360/audio_raw/audio_raw_1.wav\"  # hoặc file .mp3, .wav\n",
    "output_file = \"output_audio_7m40s_8m20s.wav\"\n",
    "\n",
    "# Định nghĩa thời gian bắt đầu và kết thúc (theo giây)\n",
    "start_time = 7 * 60 + 40  # 7 phút 40 giây\n",
    "end_time = 8 * 60 + 20  # 8 phút 20 giây\n",
    "\n",
    "# Đọc và trích xuất đoạn audio\n",
    "audio_clip = AudioFileClip(input_file).subclip(start_time, end_time)\n",
    "audio_clip.write_audiofile(output_file)\n"
   ]
  },
  {
   "cell_type": "code",
   "execution_count": 5,
   "metadata": {},
   "outputs": [
    {
     "data": {
      "text/plain": [
       "<_io.BufferedRandom name='output_first_40_seconds.wav'>"
      ]
     },
     "execution_count": 5,
     "metadata": {},
     "output_type": "execute_result"
    }
   ],
   "source": [
    "from pydub import AudioSegment\n",
    "\n",
    "# Đường dẫn đến file video\n",
    "input_file = \"output_audio_7m40s_8m20s.wav\"\n",
    "output_file = \"output_first_40_seconds.wav\"\n",
    "\n",
    "audio = AudioSegment.from_file(input_file)\n",
    "\n",
    "# Trích xuất 40 giây đầu (theo mili giây)\n",
    "extracted_audio = audio[:40 * 1000]  # 40 giây đầu\n",
    "\n",
    "# Lưu file âm thanh đã trích xuất\n",
    "extracted_audio.export(output_file, format=\"wav\")\n"
   ]
  },
  {
   "cell_type": "code",
   "execution_count": 9,
   "metadata": {},
   "outputs": [
    {
     "name": "stdout",
     "output_type": "stream",
     "text": [
      "Đoạn dài nhất có mức năng lượng từ 2 đến 5 nằm từ 16.09 giây đến 37.80 giây\n"
     ]
    }
   ],
   "source": [
    "import librosa\n",
    "import numpy as np\n",
    "import matplotlib.pyplot as plt\n",
    "import numpy \n",
    "\n",
    "# Đường dẫn đến file âm thanh\n",
    "input_file = \"output_first_40_seconds.wav\"\n",
    "\n",
    "# Load âm thanh\n",
    "y, sr = librosa.load(input_file)\n",
    "\n",
    "# Tính năng lượng của từng frame\n",
    "frame_length = 2048\n",
    "hop_length = 512\n",
    "# energy = np.array([\n",
    "#     sum(abs(y[i:i+frame_length]**2))\n",
    "#     for i in range(0, len(y), hop_length)\n",
    "# ])\n",
    "energy = librosa.feature.rms(y= y, frame_length=frame_length, hop_length=hop_length)[0]\n",
    "# Tạo trục thời gian tính bằng giây cho mỗi khung năng lượng\n",
    "times = np.arange(len(energy)) * hop_length / sr\n",
    "\n",
    "# Tìm các đoạn có mức năng lượng > 2 và < 5\n",
    "energy_threshold_min = numpy.percentile(energy, 50)\n",
    "energy_threshold_max = 10\n",
    "selected_times = []\n",
    "start = None\n",
    "\n",
    "for i, e in enumerate(energy):\n",
    "    if energy_threshold_min < e < energy_threshold_max:\n",
    "        if start is None:\n",
    "            start = times[i]\n",
    "    else:\n",
    "        if start is not None:\n",
    "            end = times[i]\n",
    "            selected_times.append((start, end))\n",
    "            start = None\n",
    "\n",
    "# Nếu có đoạn phù hợp đến cuối mảng\n",
    "if start is not None:\n",
    "    selected_times.append((start, times[-1]))\n",
    "    \n",
    "    \n",
    "# Các khoảng thời gian thỏa mãn điều kiện ban đầu (kết quả đã có)\n",
    "time_intervals = selected_times\n",
    "\n",
    "# Điều kiện khoảng cách tối đa giữa các đoạn là 3 giây\n",
    "max_gap = 2.0\n",
    "\n",
    "# Khởi tạo các nhóm khoảng thời gian liên tiếp\n",
    "merged_intervals = []\n",
    "current_group = [time_intervals[0]]\n",
    "\n",
    "for i in range(1, len(time_intervals)):\n",
    "    start, end = time_intervals[i]\n",
    "    last_end = current_group[-1][1]\n",
    "    \n",
    "    # Kiểm tra nếu khoảng cách giữa hai đoạn nhỏ hơn 3 giây\n",
    "    if start - last_end <= max_gap:\n",
    "        current_group.append((start, end))\n",
    "    else:\n",
    "        # Thêm nhóm hiện tại vào danh sách và bắt đầu nhóm mới\n",
    "        merged_intervals.append(current_group)\n",
    "        current_group = [(start, end)]\n",
    "\n",
    "# Thêm nhóm cuối cùng vào danh sách\n",
    "if current_group:\n",
    "    merged_intervals.append(current_group)\n",
    "\n",
    "# Tìm nhóm dài nhất (tổng thời gian lớn nhất)\n",
    "longest_interval = max(merged_intervals, key=lambda group: group[-1][1] - group[0][0])\n",
    "\n",
    "# Kết quả khoảng thời gian dài nhất\n",
    "longest_start = longest_interval[0][0]\n",
    "longest_end = longest_interval[-1][1]\n",
    "print(f\"Đoạn dài nhất có mức năng lượng từ 2 đến 5 nằm từ {longest_start:.2f} giây đến {longest_end:.2f} giây\")\n",
    "\n",
    "# # In kết quả các khoảng thời gian thỏa mãn điều kiện\n",
    "# print(\"Các khoảng thời gian có mức năng lượng > 2 và < 5:\")\n",
    "# for start, end in selected_times:\n",
    "#     print(f\"Từ {start:.2f} giây đến {end:.2f} giây\")\n",
    "\n",
    "# # Vẽ biểu đồ năng lượng để trực quan hóa\n",
    "# plt.figure(figsize=(10, 4))\n",
    "# plt.plot(times, energy, label=\"Energy\")\n",
    "# plt.axhline(y=energy_threshold_min, color='r', linestyle='--', label=\"Min Threshold\")\n",
    "# plt.axhline(y=energy_threshold_max, color='g', linestyle='--', label=\"Max Threshold\")\n",
    "# plt.fill_between(times, energy_threshold_min, energy_threshold_max, where=((energy > energy_threshold_min) & (energy < energy_threshold_max)), color=\"b\", alpha=0.3)\n",
    "# plt.title(\"Energy of Audio Signal Over Time\")\n",
    "# plt.xlabel(\"Time (s)\")\n",
    "# plt.ylabel(\"Energy\")\n",
    "# plt.legend()\n",
    "# plt.show()\n"
   ]
  },
  {
   "cell_type": "code",
   "execution_count": 10,
   "metadata": {},
   "outputs": [
    {
     "data": {
      "text/plain": [
       "array([0.04078446, 0.04985603, 0.06449883, ..., 0.01561758, 0.01534726,\n",
       "       0.01314965], dtype=float32)"
      ]
     },
     "execution_count": 10,
     "metadata": {},
     "output_type": "execute_result"
    }
   ],
   "source": [
    "energy"
   ]
  },
  {
   "cell_type": "code",
   "execution_count": 13,
   "metadata": {},
   "outputs": [
    {
     "data": {
      "text/plain": [
       "2.6563224880252783"
      ]
     },
     "execution_count": 13,
     "metadata": {},
     "output_type": "execute_result"
    }
   ],
   "source": [
    "import numpy\n",
    "numpy.percentile(energy, 50)"
   ]
  },
  {
   "cell_type": "code",
   "execution_count": 1,
   "metadata": {},
   "outputs": [
    {
     "name": "stdout",
     "output_type": "stream",
     "text": [
      "Mức năng lượng tại giây thứ 29 (sau khi scale) là: 0.2533657746952948\n"
     ]
    }
   ],
   "source": [
    "import librosa\n",
    "import numpy as np\n",
    "\n",
    "# Đường dẫn đến file âm thanh\n",
    "input_file = \"/home/thiendc/projects/video_summarization/v2/output_first_40_seconds.wav\"\n",
    "\n",
    "#  Load file âm thanh\n",
    "y, sr = librosa.load(input_file)\n",
    "\n",
    "# Chuẩn hóa từ [-1, 1] về [0, 1]\n",
    "y_scaled = (y + 1) / 2\n",
    "\n",
    "# Chuyển đổi giây 29 thành mẫu\n",
    "start_sample = int(1 * sr)\n",
    "end_sample = start_sample + 2*sr  # Lấy một giây từ giây 29\n",
    "\n",
    "# Tính mức năng lượng tại giây 29 (trung bình bình phương biên độ)\n",
    "energy_29s = np.sum(y_scaled[start_sample:end_sample]**2) / (end_sample - start_sample)\n",
    "print(f\"Mức năng lượng tại giây thứ 29 (sau khi scale) là: {energy_29s}\")\n"
   ]
  },
  {
   "cell_type": "code",
   "execution_count": 26,
   "metadata": {},
   "outputs": [
    {
     "name": "stdout",
     "output_type": "stream",
     "text": [
      "Không tìm thấy đoạn nào phù hợp với điều kiện đã đặt.\n"
     ]
    }
   ],
   "source": [
    "import librosa\n",
    "import numpy as np\n",
    "from pydub import AudioSegment\n",
    "\n",
    "# Đường dẫn đến file âm thanh\n",
    "input_file = \"/home/thiendc/projects/video_summarization/v2/output_first_40_seconds.wav\"\n",
    "output_file = \"extracted_silence_segment.wav\"\n",
    "\n",
    "# Load file âm thanh\n",
    "y, sr = librosa.load(input_file)\n",
    "\n",
    "# Chuẩn hóa y về [0, 1]\n",
    "y_scaled = (y + 1) / 2\n",
    "\n",
    "# Đặt ngưỡng biên độ (ví dụ: 0.05, bạn có thể điều chỉnh)\n",
    "threshold = 0.35\n",
    "\n",
    "# Tính toán khoảng thời gian tối thiểu cho đoạn liên tục (ví dụ: 1 giây)\n",
    "min_duration = 1.0  # tính bằng giây\n",
    "min_samples = int(min_duration * sr)\n",
    "\n",
    "# Tìm các đoạn có giá trị y_scaled < threshold\n",
    "below_threshold = np.where(y_scaled < threshold, 1, 0)\n",
    "\n",
    "# Tìm các đoạn liên tục dưới ngưỡng\n",
    "continuous_segments = []\n",
    "start = None\n",
    "\n",
    "for i in range(len(below_threshold)):\n",
    "    if below_threshold[i] == 1:\n",
    "        if start is None:\n",
    "            start = i\n",
    "    elif start is not None:\n",
    "        if i - start >= min_samples:\n",
    "            # Đoạn liên tục đủ dài, lưu lại\n",
    "            continuous_segments.append((start, i))\n",
    "        start = None\n",
    "\n",
    "# Kiểm tra nếu vẫn còn đoạn liên tục đến cuối\n",
    "if start is not None and len(below_threshold) - start >= min_samples:\n",
    "    continuous_segments.append((start, len(below_threshold)))\n",
    "\n",
    "# Nếu có các đoạn phù hợp, trích xuất đoạn đầu tiên\n",
    "if continuous_segments:\n",
    "    start_sample, end_sample = continuous_segments[len(continuous_segments) // 2]  # lấy đoạn giữa\n",
    "    start_time = start_sample / sr  # chuyển sang giây\n",
    "    end_time = end_sample / sr  # chuyển sang giây\n",
    "    \n",
    "    print(f\"Đoạn âm thanh liên tục có biên độ thấp từ {start_time:.2f}s đến {end_time:.2f}s\")\n",
    "\n",
    "    # Trích xuất và lưu đoạn âm thanh\n",
    "    audio = AudioSegment.from_wav(input_file)\n",
    "    extracted_audio = audio[start_time * 1000:end_time * 1000]  # chuyển từ giây sang mili giây\n",
    "    extracted_audio.export(output_file, format=\"wav\")\n",
    "    print(f\"Đoạn âm thanh đã được lưu vào {output_file}\")\n",
    "else:\n",
    "    print(\"Không tìm thấy đoạn nào phù hợp với điều kiện đã đặt.\")\n"
   ]
  },
  {
   "cell_type": "code",
   "execution_count": 4,
   "metadata": {},
   "outputs": [
    {
     "data": {
      "image/png": "[encoded data removed]",
      "text/plain": [
       "<Figure size 1000x400 with 1 Axes>"
      ]
     },
     "metadata": {},
     "output_type": "display_data"
    }
   ],
   "source": [
    "import matplotlib.pyplot as plt\n",
    "plt.figure(figsize=(10, 4))\n",
    "plt.plot(y)\n",
    "plt.title(\"Energy of Audio Signal\")\n",
    "plt.xlabel(\"Frame\")\n",
    "plt.ylabel(\"Energy\")\n",
    "plt.show()"
   ]
  },
  {
   "cell_type": "code",
   "execution_count": 20,
   "metadata": {},
   "outputs": [
    {
     "name": "stdout",
     "output_type": "stream",
     "text": [
      "Đoạn dài nhất có mức năng lượng từ 2 đến 5 nằm từ 16.04 giây đến 37.76 giây\n"
     ]
    }
   ],
   "source": [
    "# Các khoảng thời gian thỏa mãn điều kiện ban đầu (kết quả đã có)\n",
    "time_intervals = selected_times\n",
    "\n",
    "# Điều kiện khoảng cách tối đa giữa các đoạn là 3 giây\n",
    "max_gap = 2.0\n",
    "\n",
    "# Khởi tạo các nhóm khoảng thời gian liên tiếp\n",
    "merged_intervals = []\n",
    "current_group = [time_intervals[0]]\n",
    "\n",
    "for i in range(1, len(time_intervals)):\n",
    "    start, end = time_intervals[i]\n",
    "    last_end = current_group[-1][1]\n",
    "    \n",
    "    # Kiểm tra nếu khoảng cách giữa hai đoạn nhỏ hơn 3 giây\n",
    "    if start - last_end <= max_gap:\n",
    "        current_group.append((start, end))\n",
    "    else:\n",
    "        # Thêm nhóm hiện tại vào danh sách và bắt đầu nhóm mới\n",
    "        merged_intervals.append(current_group)\n",
    "        current_group = [(start, end)]\n",
    "\n",
    "# Thêm nhóm cuối cùng vào danh sách\n",
    "if current_group:\n",
    "    merged_intervals.append(current_group)\n",
    "\n",
    "# Tìm nhóm dài nhất (tổng thời gian lớn nhất)\n",
    "longest_interval = max(merged_intervals, key=lambda group: group[-1][1] - group[0][0])\n",
    "\n",
    "# Kết quả khoảng thời gian dài nhất\n",
    "longest_start = longest_interval[0][0]\n",
    "longest_end = longest_interval[-1][1]\n",
    "print(f\"Đoạn dài nhất có mức năng lượng từ 2 đến 5 nằm từ {longest_start:.2f} giây đến {longest_end:.2f} giây\")\n"
   ]
  },
  {
   "cell_type": "code",
   "execution_count": null,
   "metadata": {},
   "outputs": [],
   "source": []
  },
  {
   "cell_type": "code",
   "execution_count": null,
   "metadata": {},
   "outputs": [],
   "source": []
  },
  {
   "cell_type": "code",
   "execution_count": null,
   "metadata": {},
   "outputs": [],
   "source": []
  },
  {
   "cell_type": "code",
   "execution_count": null,
   "metadata": {},
   "outputs": [],
   "source": []
  },
  {
   "cell_type": "code",
   "execution_count": null,
   "metadata": {},
   "outputs": [],
   "source": []
  },
  {
   "cell_type": "code",
   "execution_count": 1,
   "metadata": {},
   "outputs": [],
   "source": [
    "from src.match_timeline.whistle_detection import AudioEnergyDetector\n",
    "from src.match_timeline.base.base_model import AudioEnergyConfig"
   ]
  },
  {
   "cell_type": "code",
   "execution_count": 2,
   "metadata": {},
   "outputs": [],
   "source": [
    "detector = AudioEnergyDetector()\n",
    "custom_config = AudioEnergyConfig(\n",
    "    frame_length=2048,\n",
    "    hop_length=512,\n",
    "    energy_percentile=50,\n",
    "    energy_max=10.0,\n",
    "    max_gap=2.0\n",
    ")\n",
    "\n",
    "detector = AudioEnergyDetector(custom_config)\n",
    "\n",
    "# Phân tích file\n",
    "file_path = \"output_first_40_seconds.wav\"\n",
    "longest_segment = detector.analyze_file(file_path)\n"
   ]
  },
  {
   "cell_type": "code",
   "execution_count": 3,
   "metadata": {},
   "outputs": [
    {
     "data": {
      "text/plain": [
       "AudioSegment(start_time=16.091428571428573, end_time=37.802086167800454)"
      ]
     },
     "execution_count": 3,
     "metadata": {},
     "output_type": "execute_result"
    }
   ],
   "source": [
    "longest_segment"
   ]
  }
 ],
 "metadata": {
  "kernelspec": {
   "display_name": "Python 3",
   "language": "python",
   "name": "python3"
  },
  "language_info": {
   "codemirror_mode": {
    "name": "ipython",
    "version": 3
   },
   "file_extension": ".py",
   "mimetype": "text/x-python",
   "name": "python",
   "nbconvert_exporter": "python",
   "pygments_lexer": "ipython3",
   "version": "3.10.15"
  }
 },
 "nbformat": 4,
 "nbformat_minor": 2
}
