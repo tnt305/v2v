{
 "cells": [
  {
   "cell_type": "code",
   "execution_count": 6,
   "metadata": {},
   "outputs": [
    {
     "data": {
      "text/html": [
       "<div>\n",
       "<style scoped>\n",
       "    .dataframe tbody tr th:only-of-type {\n",
       "        vertical-align: middle;\n",
       "    }\n",
       "\n",
       "    .dataframe tbody tr th {\n",
       "        vertical-align: top;\n",
       "    }\n",
       "\n",
       "    .dataframe thead th {\n",
       "        text-align: right;\n",
       "    }\n",
       "</style>\n",
       "<table border=\"1\" class=\"dataframe\">\n",
       "  <thead>\n",
       "    <tr style=\"text-align: right;\">\n",
       "      <th></th>\n",
       "      <th>color short</th>\n",
       "      <th>color name</th>\n",
       "      <th>color code</th>\n",
       "      <th>r</th>\n",
       "      <th>g</th>\n",
       "      <th>b</th>\n",
       "      <th>description</th>\n",
       "      <th>main_color</th>\n",
       "    </tr>\n",
       "  </thead>\n",
       "  <tbody>\n",
       "    <tr>\n",
       "      <th>0</th>\n",
       "      <td>air_force_blue_raf</td>\n",
       "      <td>Air Force Blue (Raf)</td>\n",
       "      <td>#5d8aa8</td>\n",
       "      <td>93</td>\n",
       "      <td>138</td>\n",
       "      <td>168</td>\n",
       "      <td>Mostly desaturated dark blue</td>\n",
       "      <td>black</td>\n",
       "    </tr>\n",
       "    <tr>\n",
       "      <th>1</th>\n",
       "      <td>air_force_blue_usaf</td>\n",
       "      <td>Air Force Blue (Usaf)</td>\n",
       "      <td>#00308f</td>\n",
       "      <td>0</td>\n",
       "      <td>48</td>\n",
       "      <td>143</td>\n",
       "      <td>Dark blue</td>\n",
       "      <td>black</td>\n",
       "    </tr>\n",
       "    <tr>\n",
       "      <th>2</th>\n",
       "      <td>air_superiority_blue</td>\n",
       "      <td>Air Superiority Blue</td>\n",
       "      <td>#72a0c1</td>\n",
       "      <td>114</td>\n",
       "      <td>160</td>\n",
       "      <td>193</td>\n",
       "      <td>Slightly desaturated blue</td>\n",
       "      <td>blue</td>\n",
       "    </tr>\n",
       "    <tr>\n",
       "      <th>3</th>\n",
       "      <td>alabama_crimson</td>\n",
       "      <td>Alabama Crimson</td>\n",
       "      <td>#a32638</td>\n",
       "      <td>163</td>\n",
       "      <td>38</td>\n",
       "      <td>56</td>\n",
       "      <td>Dark red</td>\n",
       "      <td>black</td>\n",
       "    </tr>\n",
       "    <tr>\n",
       "      <th>4</th>\n",
       "      <td>alice_blue</td>\n",
       "      <td>Alice Blue</td>\n",
       "      <td>#f0f8ff</td>\n",
       "      <td>240</td>\n",
       "      <td>248</td>\n",
       "      <td>255</td>\n",
       "      <td>Very pale (mostly white) blue</td>\n",
       "      <td>white</td>\n",
       "    </tr>\n",
       "    <tr>\n",
       "      <th>...</th>\n",
       "      <td>...</td>\n",
       "      <td>...</td>\n",
       "      <td>...</td>\n",
       "      <td>...</td>\n",
       "      <td>...</td>\n",
       "      <td>...</td>\n",
       "      <td>...</td>\n",
       "      <td>...</td>\n",
       "    </tr>\n",
       "    <tr>\n",
       "      <th>860</th>\n",
       "      <td>yellow_orange</td>\n",
       "      <td>Yellow Orange</td>\n",
       "      <td>#ffae42</td>\n",
       "      <td>255</td>\n",
       "      <td>174</td>\n",
       "      <td>66</td>\n",
       "      <td>Light orange</td>\n",
       "      <td>orange</td>\n",
       "    </tr>\n",
       "    <tr>\n",
       "      <th>861</th>\n",
       "      <td>yellow_process</td>\n",
       "      <td>Yellow (Process)</td>\n",
       "      <td>#ffef00</td>\n",
       "      <td>255</td>\n",
       "      <td>239</td>\n",
       "      <td>0</td>\n",
       "      <td>Pure (or mostly pure) yellow</td>\n",
       "      <td>yellow</td>\n",
       "    </tr>\n",
       "    <tr>\n",
       "      <th>862</th>\n",
       "      <td>yellow_ryb</td>\n",
       "      <td>Yellow (Ryb)</td>\n",
       "      <td>#fefe33</td>\n",
       "      <td>254</td>\n",
       "      <td>254</td>\n",
       "      <td>51</td>\n",
       "      <td>Bright yellow</td>\n",
       "      <td>yellow</td>\n",
       "    </tr>\n",
       "    <tr>\n",
       "      <th>863</th>\n",
       "      <td>zaffre</td>\n",
       "      <td>Zaffre</td>\n",
       "      <td>#0014a8</td>\n",
       "      <td>0</td>\n",
       "      <td>20</td>\n",
       "      <td>168</td>\n",
       "      <td>Dark blue</td>\n",
       "      <td>black</td>\n",
       "    </tr>\n",
       "    <tr>\n",
       "      <th>864</th>\n",
       "      <td>zinnwaldite_brown</td>\n",
       "      <td>Zinnwaldite Brown</td>\n",
       "      <td>#2c1608</td>\n",
       "      <td>44</td>\n",
       "      <td>22</td>\n",
       "      <td>8</td>\n",
       "      <td>Very dark (mostly black) orange [Brown tone]</td>\n",
       "      <td>black</td>\n",
       "    </tr>\n",
       "  </tbody>\n",
       "</table>\n",
       "<p>865 rows × 8 columns</p>\n",
       "</div>"
      ],
      "text/plain": [
       "              color short             color name color code    r    g    b  \\\n",
       "0      air_force_blue_raf   Air Force Blue (Raf)    #5d8aa8   93  138  168   \n",
       "1     air_force_blue_usaf  Air Force Blue (Usaf)    #00308f    0   48  143   \n",
       "2    air_superiority_blue   Air Superiority Blue    #72a0c1  114  160  193   \n",
       "3         alabama_crimson        Alabama Crimson    #a32638  163   38   56   \n",
       "4              alice_blue             Alice Blue    #f0f8ff  240  248  255   \n",
       "..                    ...                    ...        ...  ...  ...  ...   \n",
       "860         yellow_orange          Yellow Orange    #ffae42  255  174   66   \n",
       "861        yellow_process       Yellow (Process)    #ffef00  255  239    0   \n",
       "862            yellow_ryb           Yellow (Ryb)    #fefe33  254  254   51   \n",
       "863                zaffre                 Zaffre    #0014a8    0   20  168   \n",
       "864     zinnwaldite_brown      Zinnwaldite Brown    #2c1608   44   22    8   \n",
       "\n",
       "                                      description main_color  \n",
       "0                    Mostly desaturated dark blue      black  \n",
       "1                                       Dark blue      black  \n",
       "2                       Slightly desaturated blue       blue  \n",
       "3                                        Dark red      black  \n",
       "4                   Very pale (mostly white) blue      white  \n",
       "..                                            ...        ...  \n",
       "860                                  Light orange     orange  \n",
       "861                  Pure (or mostly pure) yellow     yellow  \n",
       "862                                 Bright yellow     yellow  \n",
       "863                                     Dark blue      black  \n",
       "864  Very dark (mostly black) orange [Brown tone]      black  \n",
       "\n",
       "[865 rows x 8 columns]"
      ]
     },
     "execution_count": 6,
     "metadata": {},
     "output_type": "execute_result"
    }
   ],
   "source": [
    "import pandas\n",
    "pandas.read_csv(\"/home/thiendc/projects/video_summarization/v2/data/colors_v2.csv\", header = 0)"
   ]
  },
  {
   "cell_type": "code",
   "execution_count": 3,
   "metadata": {},
   "outputs": [
    {
     "data": {
      "text/plain": [
       "'green'"
      ]
     },
     "execution_count": 3,
     "metadata": {},
     "output_type": "execute_result"
    }
   ],
   "source": [
    "from src.color_domain.dominant_color import DominantColorDetector\n",
    "main_color_detector = DominantColorDetector(strategy = 'centric')\n",
    "main_color_detector.get_color_main('data/sample.png')"
   ]
  },
  {
   "cell_type": "code",
   "execution_count": null,
   "metadata": {},
   "outputs": [],
   "source": [
    "import"
   ]
  },
  {
   "cell_type": "code",
   "execution_count": 5,
   "metadata": {},
   "outputs": [
    {
     "name": "stdout",
     "output_type": "stream",
     "text": [
      "Dominant color (BGR): [87, 128, 108]\n"
     ]
    },
    {
     "data": {
      "image/png": "[encoded data removed]",
      "text/plain": [
       "<Figure size 200x200 with 1 Axes>"
      ]
     },
     "metadata": {},
     "output_type": "display_data"
    }
   ],
   "source": [
    "import cv2\n",
    "import numpy as np\n",
    "from sklearn.cluster import KMeans\n",
    "import matplotlib.pyplot as plt\n",
    "\n",
    "def get_dominant_color(image, k=1):\n",
    "    # Reshape the image to be a list of pixels\n",
    "    pixels = image.reshape((-1, 3))\n",
    "\n",
    "    # Convert to float for KMeans\n",
    "    pixels = np.float32(pixels)\n",
    "\n",
    "    # Perform K-means clustering to find the dominant color\n",
    "    kmeans = KMeans(n_clusters=k)\n",
    "    kmeans.fit(pixels)\n",
    "\n",
    "    # Get the dominant color\n",
    "    dominant_color = kmeans.cluster_centers_[0]\n",
    "    return dominant_color\n",
    "\n",
    "# Load the image\n",
    "image = cv2.imread('./data/sample.png')\n",
    "height, width = image.shape[:2]\n",
    "# Resize the image if it's too large (optional)\n",
    "image = cv2.resize(image, (width // 10, height // 10), interpolation=cv2.INTER_AREA)\n",
    "\n",
    "# Get the dominant color\n",
    "dominant_color = get_dominant_color(image, k= 1)\n",
    "\n",
    "# Convert the color to integers and display\n",
    "dominant_color = [int(c) for c in dominant_color]\n",
    "print(\"Dominant color (BGR):\", dominant_color)\n",
    "\n",
    "# Plot the color\n",
    "plt.figure(figsize=(2, 2))\n",
    "plt.imshow([[dominant_color[::-1]]])  # Convert BGR to RGB for displaying\n",
    "plt.axis('off')\n",
    "plt.show()\n"
   ]
  },
  {
   "cell_type": "code",
   "execution_count": 2,
   "metadata": {},
   "outputs": [
    {
     "data": {
      "image/png": "[encoded data removed]",
      "text/plain": [
       "<Figure size 640x480 with 1 Axes>"
      ]
     },
     "metadata": {},
     "output_type": "display_data"
    },
    {
     "name": "stdout",
     "output_type": "stream",
     "text": [
      "Dominant color (BGR): [77, 127, 103]\n"
     ]
    },
    {
     "data": {
      "image/png": "[encoded data removed]",
      "text/plain": [
       "<Figure size 200x200 with 1 Axes>"
      ]
     },
     "metadata": {},
     "output_type": "display_data"
    }
   ],
   "source": [
    "import cv2\n",
    "import numpy as np\n",
    "from sklearn.cluster import KMeans\n",
    "import matplotlib.pyplot as plt\n",
    "\n",
    "def get_dominant_color(image, k=1):\n",
    "    # Reshape the image to be a list of pixels\n",
    "    pixels = image.reshape((-1, 3))\n",
    "\n",
    "    # Convert to float for KMeans\n",
    "    pixels = np.float32(pixels)\n",
    "\n",
    "    # Perform K-means clustering to find the dominant color\n",
    "    kmeans = KMeans(n_clusters=k)\n",
    "    kmeans.fit(pixels)\n",
    "\n",
    "    # Get the dominant color\n",
    "    dominant_color = kmeans.cluster_centers_[0]\n",
    "    return dominant_color\n",
    "\n",
    "# Load the image\n",
    "image = cv2.imread('./data/sample.png')\n",
    "height, width = image.shape[:2]\n",
    "\n",
    "# Resize the image if it's too large (optional)\n",
    "image = cv2.resize(image, (width // 10, height // 10), interpolation=cv2.INTER_AREA)\n",
    "\n",
    "# Convert the image to HSV color space\n",
    "hsv_image = cv2.cvtColor(image, cv2.COLOR_BGR2HSV)\n",
    "\n",
    "# Increase saturation by a factor (e.g., 1.2 for a slight boost)\n",
    "saturation_increase_factor = 1.2\n",
    "hsv_image[:, :, 1] = np.clip(hsv_image[:, :, 1] * saturation_increase_factor, 0, 255)\n",
    "\n",
    "# Convert back to BGR color space\n",
    "saturated_image = cv2.cvtColor(hsv_image, cv2.COLOR_HSV2BGR)\n",
    "\n",
    "# Display the saturated image using matplotlib\n",
    "plt.imshow(cv2.cvtColor(saturated_image, cv2.COLOR_BGR2RGB))  # Convert BGR to RGB for correct display\n",
    "plt.axis('off')\n",
    "plt.show()\n",
    "\n",
    "# Get the dominant color in the saturated image\n",
    "dominant_color = get_dominant_color(saturated_image, k=1)\n",
    "\n",
    "# Convert the color to integers and display\n",
    "dominant_color = [int(c) for c in dominant_color]\n",
    "print(\"Dominant color (BGR):\", dominant_color)\n",
    "\n",
    "# Plot the dominant color\n",
    "plt.figure(figsize=(2, 2))\n",
    "plt.imshow([[dominant_color[::-1]]])  # Convert BGR to RGB for displaying\n",
    "plt.axis('off')\n",
    "plt.show()\n"
   ]
  },
  {
   "cell_type": "code",
   "execution_count": 38,
   "metadata": {},
   "outputs": [
    {
     "name": "stdout",
     "output_type": "stream",
     "text": [
      "Dominant color (BGR): [33, 128, 84]\n"
     ]
    },
    {
     "data": {
      "image/png": "[encoded data removed]",
      "text/plain": [
       "<Figure size 640x480 with 1 Axes>"
      ]
     },
     "metadata": {},
     "output_type": "display_data"
    },
    {
     "data": {
      "image/png": "[encoded data removed]",
      "text/plain": [
       "<Figure size 200x200 with 1 Axes>"
      ]
     },
     "metadata": {},
     "output_type": "display_data"
    }
   ],
   "source": [
    "import cv2\n",
    "import numpy as np\n",
    "from sklearn.cluster import KMeans\n",
    "import matplotlib.pyplot as plt\n",
    "from collections import Counter\n",
    "\n",
    "def get_dominant_color_by_area(image, k=5):\n",
    "    # Reshape the image to be a list of pixels\n",
    "    pixels = image.reshape((-1, 3))\n",
    "\n",
    "    # Convert to float for KMeans\n",
    "    pixels = np.float32(pixels)\n",
    "\n",
    "    # Perform K-means clustering\n",
    "    kmeans = KMeans(n_clusters=k)\n",
    "    kmeans.fit(pixels)\n",
    "\n",
    "    # Count the number of pixels in each cluster\n",
    "    counts = Counter(kmeans.labels_)\n",
    "\n",
    "    # Find the largest cluster and get its color\n",
    "    dominant_color = kmeans.cluster_centers_[counts.most_common(1)[0][0]]\n",
    "    return dominant_color\n",
    "\n",
    "# Load the image\n",
    "image = cv2.imread('./data/sample.png')\n",
    "\n",
    "# Resize the image slightly if needed (avoid resizing too small to maintain details)\n",
    "height, width = image.shape[:2]\n",
    "image = cv2.resize(image, (width // 4, height // 4), interpolation=cv2.INTER_AREA)\n",
    "\n",
    "# Convert the image to HSV color space to increase saturation\n",
    "hsv_image = cv2.cvtColor(image, cv2.COLOR_BGR2HSV)\n",
    "\n",
    "# Increase saturation by a factor (optional)\n",
    "saturation_increase_factor = 1.1\n",
    "hsv_image[:, :, 1] = np.clip(hsv_image[:, :, 1] * saturation_increase_factor, 0, 255)\n",
    "\n",
    "# Convert back to BGR color space\n",
    "saturated_image = cv2.cvtColor(hsv_image, cv2.COLOR_HSV2BGR)\n",
    "\n",
    "# Get the dominant color based on area with multiple clusters\n",
    "dominant_color = get_dominant_color_by_area(saturated_image, k=5)\n",
    "\n",
    "# Convert the color to integers and display\n",
    "dominant_color = [int(c) for c in dominant_color]\n",
    "print(\"Dominant color (BGR):\", dominant_color)\n",
    "\n",
    "# Display the saturated image\n",
    "plt.imshow(cv2.cvtColor(saturated_image, cv2.COLOR_BGR2RGB))\n",
    "plt.axis('off')\n",
    "plt.show()\n",
    "\n",
    "# Plot the dominant color\n",
    "plt.figure(figsize=(2, 2))\n",
    "plt.imshow([[dominant_color[::-1]]])  # Convert BGR to RGB for displaying\n",
    "plt.axis('off')\n",
    "plt.show()\n"
   ]
  }
 ],
 "metadata": {
  "kernelspec": {
   "display_name": "Python 3",
   "language": "python",
   "name": "python3"
  },
  "language_info": {
   "codemirror_mode": {
    "name": "ipython",
    "version": 3
   },
   "file_extension": ".py",
   "mimetype": "text/x-python",
   "name": "python",
   "nbconvert_exporter": "python",
   "pygments_lexer": "ipython3",
   "version": "3.10.15"
  }
 },
 "nbformat": 4,
 "nbformat_minor": 2
}
